{
 "cells": [
  {
   "cell_type": "markdown",
   "metadata": {
    "application/vnd.databricks.v1+cell": {
     "cellMetadata": {},
     "inputWidgets": {},
     "nuid": "97bda45d-147f-41fc-8f06-25bc9a9ef997",
     "showTitle": false,
     "tableResultSettingsMap": {},
     "title": ""
    }
   },
   "source": [
    "Silver Layer  **Clean** and **Standardize** Data from the bronze layer\n",
    "\n",
    "At this layer we are going to clean and transform the raw Bronze data:\n",
    "  - Casts dates to proper format\n",
    "  - Handles missing/null values\n",
    "  - Adds `return_delay_days` to track delays\n",
    "  \n",
    "You can think of this as librarians organizing, tagging, and fixing messy book records."
   ]
  },
  {
   "cell_type": "markdown",
   "metadata": {
    "application/vnd.databricks.v1+cell": {
     "cellMetadata": {},
     "inputWidgets": {},
     "nuid": "478a4817-87bc-42df-9416-22d028c686fc",
     "showTitle": false,
     "tableResultSettingsMap": {},
     "title": ""
    }
   },
   "source": [
    "#### We are importing all the necessary functions we will need to perform this task"
   ]
  },
  {
   "cell_type": "code",
   "execution_count": 0,
   "metadata": {
    "application/vnd.databricks.v1+cell": {
     "cellMetadata": {
      "byteLimit": 2048000,
      "rowLimit": 10000
     },
     "inputWidgets": {},
     "nuid": "5c64024a-56ff-4344-8025-ecf58fa3fe78",
     "showTitle": false,
     "tableResultSettingsMap": {},
     "title": ""
    }
   },
   "outputs": [],
   "source": [
    "from pyspark.sql.functions import col, to_date, datediff, lit, coalesce, current_date\n",
    "from pyspark.sql.types import *\n"
   ]
  },
  {
   "cell_type": "markdown",
   "metadata": {
    "application/vnd.databricks.v1+cell": {
     "cellMetadata": {},
     "inputWidgets": {},
     "nuid": "5a34ca3a-fa78-44cf-b3c9-40e2020113e8",
     "showTitle": false,
     "tableResultSettingsMap": {},
     "title": ""
    }
   },
   "source": [
    "#### We are going to create the silver tables using the following schema, this is to ensure schema enforcement"
   ]
  },
  {
   "cell_type": "code",
   "execution_count": 0,
   "metadata": {
    "application/vnd.databricks.v1+cell": {
     "cellMetadata": {
      "byteLimit": 2048000,
      "rowLimit": 10000
     },
     "inputWidgets": {},
     "nuid": "a5bde57f-e7a1-4378-820d-f3d071d8f952",
     "showTitle": false,
     "tableResultSettingsMap": {},
     "title": ""
    }
   },
   "outputs": [],
   "source": [
    "books_schema = StructType([\n",
    "    StructField(\"isbn\", StringType(), False),\n",
    "    StructField(\"title\", StringType(), True),\n",
    "    StructField(\"author\", StringType(), True),\n",
    "    StructField(\"genre\", StringType(), True),\n",
    "    StructField(\"publish_date\", DateType(), True),\n",
    "    StructField(\"pages\", IntegerType(), True)\n",
    "])\n",
    "\n",
    "borrowers_schema = StructType([\n",
    "    StructField(\"user_id\", StringType(), False),\n",
    "    StructField(\"name\", StringType(), True),\n",
    "    StructField(\"book_isbn\", StringType(), True),\n",
    "    StructField(\"borrow_date\", DateType(), True),\n",
    "    StructField(\"return_date\", DateType(), True),\n",
    "    StructField(\"return_delay_days\", IntegerType(), True)\n",
    "])\n",
    "\n",
    "staff_schema = StructType([\n",
    "    StructField(\"staff_id\", StringType(), False),\n",
    "    StructField(\"name\", StringType(), True),\n",
    "    StructField(\"role\", StringType(), True),\n",
    "    StructField(\"hire_date\", DateType(), True)\n",
    "])"
   ]
  },
  {
   "cell_type": "markdown",
   "metadata": {
    "application/vnd.databricks.v1+cell": {
     "cellMetadata": {},
     "inputWidgets": {},
     "nuid": "77ac2a76-05eb-4134-a8cb-c4f36dbc3160",
     "showTitle": false,
     "tableResultSettingsMap": {},
     "title": ""
    }
   },
   "source": [
    "#### We are loading the data from the bronze tables into variables."
   ]
  },
  {
   "cell_type": "code",
   "execution_count": 0,
   "metadata": {
    "application/vnd.databricks.v1+cell": {
     "cellMetadata": {
      "byteLimit": 2048000,
      "rowLimit": 10000
     },
     "inputWidgets": {},
     "nuid": "7fdc4114-190c-474d-aefc-3e6e8ed08019",
     "showTitle": false,
     "tableResultSettingsMap": {},
     "title": ""
    }
   },
   "outputs": [],
   "source": [
    "# Load Bronze tables\n",
    "books_bronze = spark.table(\"books_bronze\")\n",
    "borrowers_bronze = spark.table(\"borrowers_bronze\")\n",
    "staff_bronze = spark.table(\"staff_bronze\") "
   ]
  },
  {
   "cell_type": "markdown",
   "metadata": {
    "application/vnd.databricks.v1+cell": {
     "cellMetadata": {},
     "inputWidgets": {},
     "nuid": "e49d2c64-264a-43fa-8940-16285670071f",
     "showTitle": false,
     "tableResultSettingsMap": {},
     "title": ""
    }
   },
   "source": [
    "#### This code is going to create books_silver from books_bronze variable after clenaing and transforming the selected rows in the books_bronze."
   ]
  },
  {
   "cell_type": "code",
   "execution_count": 0,
   "metadata": {
    "application/vnd.databricks.v1+cell": {
     "cellMetadata": {
      "byteLimit": 2048000,
      "rowLimit": 10000
     },
     "inputWidgets": {},
     "nuid": "72a62fd8-b491-48b1-ae14-b59a57c1a631",
     "showTitle": false,
     "tableResultSettingsMap": {},
     "title": ""
    }
   },
   "outputs": [],
   "source": [
    "# Clean books data\n",
    "books_silver = books_bronze.select(\n",
    "    col(\"isbn\").cast(\"string\"),\n",
    "    col(\"title\"),\n",
    "    col(\"author\"),\n",
    "    col(\"genre\"),\n",
    "    to_date(col(\"publish_date\")).alias(\"publish_date\"),\n",
    "    col(\"pages\").cast(\"int\")\n",
    ")\n"
   ]
  },
  {
   "cell_type": "code",
   "execution_count": 0,
   "metadata": {
    "application/vnd.databricks.v1+cell": {
     "cellMetadata": {},
     "inputWidgets": {},
     "nuid": "446ac8d6-7008-46dd-8235-8d6cfcadef75",
     "showTitle": false,
     "tableResultSettingsMap": {},
     "title": ""
    }
   },
   "outputs": [],
   "source": [
    "books_silver.write.mode(\"overwrite\").format(\"delta\").option(\"overwriteSchema\", True).saveAsTable(\"books_silver\")"
   ]
  },
  {
   "cell_type": "markdown",
   "metadata": {
    "application/vnd.databricks.v1+cell": {
     "cellMetadata": {},
     "inputWidgets": {},
     "nuid": "a717d81e-8a91-43f1-96f2-3bae0d3a2772",
     "showTitle": false,
     "tableResultSettingsMap": {},
     "title": ""
    }
   },
   "source": [
    "#### We are viewing the table to have a look at our data. We are limiting to just 10 role."
   ]
  },
  {
   "cell_type": "code",
   "execution_count": 0,
   "metadata": {
    "application/vnd.databricks.v1+cell": {
     "cellMetadata": {
      "byteLimit": 2048000,
      "implicitDf": true,
      "rowLimit": 10000
     },
     "inputWidgets": {},
     "nuid": "4787c888-7b3e-4913-92e4-40aca02f381e",
     "showTitle": false,
     "tableResultSettingsMap": {},
     "title": ""
    }
   },
   "outputs": [],
   "source": [
    "books_silver_df = spark.table(\"books_silver\").limit(10)\n",
    "books_silver_df.show()\n"
   ]
  },
  {
   "cell_type": "markdown",
   "metadata": {
    "application/vnd.databricks.v1+cell": {
     "cellMetadata": {},
     "inputWidgets": {},
     "nuid": "0fdd4547-e454-42bf-9a1d-48abde2d3de4",
     "showTitle": false,
     "tableResultSettingsMap": {},
     "title": ""
    }
   },
   "source": [
    "#### This code is going to create borrowers_silver from borrowers_bronze variable after clenaing and transforming the selected rows in the borrowers_bronze."
   ]
  },
  {
   "cell_type": "code",
   "execution_count": 0,
   "metadata": {
    "application/vnd.databricks.v1+cell": {
     "cellMetadata": {
      "byteLimit": 2048000,
      "rowLimit": 10000
     },
     "inputWidgets": {},
     "nuid": "4cbdc518-e9e6-4e98-9643-f54ed88d15c8",
     "showTitle": false,
     "tableResultSettingsMap": {},
     "title": ""
    }
   },
   "outputs": [],
   "source": [
    "# Clean borrowers data\n",
    "borrowers_silver = borrowers_bronze.select(\n",
    "    col(\"user_id\"),\n",
    "    col(\"name\"),\n",
    "    col(\"book_isbn\"),\n",
    "    col(\"borrow_date\"),\n",
    "    to_date(coalesce(col(\"return_date\"), current_date())).alias(\"return_date\"),\n",
    "    datediff(\n",
    "        to_date(coalesce(col(\"return_date\"), current_date())),\n",
    "        to_date(coalesce(col(\"borrow_date\"), lit(\"2000-01-01\")))\n",
    "    ).alias(\"return_delay_days\")\n",
    ")"
   ]
  },
  {
   "cell_type": "code",
   "execution_count": 0,
   "metadata": {
    "application/vnd.databricks.v1+cell": {
     "cellMetadata": {},
     "inputWidgets": {},
     "nuid": "c8fbc800-3ee8-4e87-bcde-038465e3ceb0",
     "showTitle": false,
     "tableResultSettingsMap": {},
     "title": ""
    }
   },
   "outputs": [],
   "source": [
    "borrowers_silver.write.mode(\"overwrite\").format(\"delta\").option(\"overwriteSchema\", True).saveAsTable(\"borrowers_silver\")"
   ]
  },
  {
   "cell_type": "markdown",
   "metadata": {
    "application/vnd.databricks.v1+cell": {
     "cellMetadata": {},
     "inputWidgets": {},
     "nuid": "7aa9c900-0687-4203-95f8-e9ed711793f3",
     "showTitle": false,
     "tableResultSettingsMap": {},
     "title": ""
    }
   },
   "source": [
    "#### We are viewing the table to have a look at our data. We are limiting to just 10 role."
   ]
  },
  {
   "cell_type": "code",
   "execution_count": 0,
   "metadata": {
    "application/vnd.databricks.v1+cell": {
     "cellMetadata": {
      "byteLimit": 2048000,
      "implicitDf": true,
      "rowLimit": 10000
     },
     "inputWidgets": {},
     "nuid": "82c843f9-fdb8-4973-8bb7-4d803028fa04",
     "showTitle": false,
     "tableResultSettingsMap": {},
     "title": ""
    }
   },
   "outputs": [],
   "source": [
    "borrowers_silver_df = spark.table(\"borrowers_silver\").limit(10)\n",
    "borrowers_silver_df.show()\n"
   ]
  },
  {
   "cell_type": "markdown",
   "metadata": {
    "application/vnd.databricks.v1+cell": {
     "cellMetadata": {},
     "inputWidgets": {},
     "nuid": "20a011f4-b462-48b9-bdd1-94f281dc0b6c",
     "showTitle": false,
     "tableResultSettingsMap": {},
     "title": ""
    }
   },
   "source": [
    "#### This code is going to create staff_silver from staff_bronze variable after clenaing and transforming the selected rows in the staff_bronze."
   ]
  },
  {
   "cell_type": "code",
   "execution_count": 0,
   "metadata": {
    "application/vnd.databricks.v1+cell": {
     "cellMetadata": {
      "byteLimit": 2048000,
      "rowLimit": 10000
     },
     "inputWidgets": {},
     "nuid": "4a1acd80-c18d-4a8e-bd5c-6a0a6870f68e",
     "showTitle": false,
     "tableResultSettingsMap": {},
     "title": ""
    }
   },
   "outputs": [],
   "source": [
    "# Clean staff data\n",
    "staff_silver = staff_bronze.select(\n",
    "    col(\"staff_id\").cast(\"string\"),\n",
    "    col(\"name\"),\n",
    "    col(\"role\"),\n",
    "    to_date(col(\"hire_date\")).alias(\"hire_date\")\n",
    ")\n"
   ]
  },
  {
   "cell_type": "code",
   "execution_count": 0,
   "metadata": {
    "application/vnd.databricks.v1+cell": {
     "cellMetadata": {},
     "inputWidgets": {},
     "nuid": "7e22019f-eac7-43cf-ae31-d08d4cbe0128",
     "showTitle": false,
     "tableResultSettingsMap": {},
     "title": ""
    }
   },
   "outputs": [],
   "source": [
    "staff_silver.write.mode(\"overwrite\").format(\"delta\").option(\"overwriteSchema\", True).saveAsTable(\"staff_silver\")"
   ]
  },
  {
   "cell_type": "markdown",
   "metadata": {
    "application/vnd.databricks.v1+cell": {
     "cellMetadata": {},
     "inputWidgets": {},
     "nuid": "6d7a35df-9c9c-456b-bea4-44dd799a902a",
     "showTitle": false,
     "tableResultSettingsMap": {},
     "title": ""
    }
   },
   "source": [
    "#### We are viewing the table to have a look at our data. We are limiting to just 10 role."
   ]
  },
  {
   "cell_type": "code",
   "execution_count": 0,
   "metadata": {
    "application/vnd.databricks.v1+cell": {
     "cellMetadata": {
      "byteLimit": 2048000,
      "implicitDf": true,
      "rowLimit": 10000
     },
     "inputWidgets": {},
     "nuid": "a0262fef-8a57-483a-b650-02eea9d3615f",
     "showTitle": false,
     "tableResultSettingsMap": {},
     "title": ""
    }
   },
   "outputs": [],
   "source": [
    "staff_silver_df = spark.table(\"staff_silver\").limit(10)\n",
    "staff_silver_df.show()\n"
   ]
  }
 ],
 "metadata": {
  "application/vnd.databricks.v1+notebook": {
   "computePreferences": null,
   "dashboards": [],
   "environmentMetadata": {
    "base_environment": "",
    "environment_version": "2"
   },
   "inputWidgetPreferences": null,
   "language": "python",
   "notebookMetadata": {
    "mostRecentlyExecutedCommandWithImplicitDF": {
     "commandId": -1,
     "dataframes": [
      "_sqldf"
     ]
    },
    "pythonIndentUnit": 4
   },
   "notebookName": "Silver_notebook",
   "widgets": {}
  },
  "language_info": {
   "name": "python"
  }
 },
 "nbformat": 4,
 "nbformat_minor": 0
}

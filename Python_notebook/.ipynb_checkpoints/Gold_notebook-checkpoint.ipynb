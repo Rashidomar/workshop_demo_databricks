{
 "cells": [
  {
   "cell_type": "markdown",
   "metadata": {
    "application/vnd.databricks.v1+cell": {
     "cellMetadata": {},
     "inputWidgets": {},
     "nuid": "e572eccb-81d7-4a28-98c1-dcb331e382bd",
     "showTitle": false,
     "tableResultSettingsMap": {},
     "title": ""
    }
   },
   "source": [
    "Gold Layer - Business Analytics\n",
    "\n",
    "Explanation:\n",
    "-- In this layer we are gooing to produce business analysis from the cleaned Silver data.\n",
    "  - Most borrowed books\n",
    "  - Average delay per genre\n",
    "  - staff count by role\n",
    "  \n",
    "**Think of this as:** The library's monthly reports that help make decisions about which books to buy more of."
   ]
  },
  {
   "cell_type": "markdown",
   "metadata": {
    "application/vnd.databricks.v1+cell": {
     "cellMetadata": {},
     "inputWidgets": {},
     "nuid": "65f10729-106e-47f4-ae28-8ce7d3d467fa",
     "showTitle": false,
     "tableResultSettingsMap": {},
     "title": ""
    }
   },
   "source": [
    "### We are importing all the necessary functions we will need to perform this task"
   ]
  },
  {
   "cell_type": "code",
   "execution_count": 0,
   "metadata": {
    "application/vnd.databricks.v1+cell": {
     "cellMetadata": {
      "byteLimit": 2048000,
      "rowLimit": 10000
     },
     "inputWidgets": {},
     "nuid": "921cd03d-8b90-4465-8fff-f2782b183463",
     "showTitle": false,
     "tableResultSettingsMap": {},
     "title": ""
    }
   },
   "outputs": [],
   "source": [
    "from pyspark.sql.functions import count, avg, desc\n"
   ]
  },
  {
   "cell_type": "markdown",
   "metadata": {
    "application/vnd.databricks.v1+cell": {
     "cellMetadata": {},
     "inputWidgets": {},
     "nuid": "586a2663-c478-4111-867e-85acfc7e0123",
     "showTitle": false,
     "tableResultSettingsMap": {},
     "title": ""
    }
   },
   "source": [
    "### We are loading the data from the bronze tables into variables."
   ]
  },
  {
   "cell_type": "code",
   "execution_count": 0,
   "metadata": {
    "application/vnd.databricks.v1+cell": {
     "cellMetadata": {
      "byteLimit": 2048000,
      "rowLimit": 10000
     },
     "inputWidgets": {},
     "nuid": "9f47e0c5-75f0-4c56-8b4d-10b3e8b04f1b",
     "showTitle": false,
     "tableResultSettingsMap": {},
     "title": ""
    }
   },
   "outputs": [],
   "source": [
    "\n",
    "books_silver = spark.table(\"books_silver\")\n",
    "borrowers_silver = spark.table(\"borrowers_silver\")\n"
   ]
  },
  {
   "cell_type": "markdown",
   "metadata": {
    "application/vnd.databricks.v1+cell": {
     "cellMetadata": {},
     "inputWidgets": {},
     "nuid": "3436dc42-1992-49bf-9885-94b6bb8567ac",
     "showTitle": false,
     "tableResultSettingsMap": {},
     "title": ""
    }
   },
   "source": [
    "# Most borrowed books\n",
    "#### This statement is going to create most_borrowed_books_gold from borrowers_silver and books_silver tables after performing a join operation"
   ]
  },
  {
   "cell_type": "code",
   "execution_count": 0,
   "metadata": {
    "application/vnd.databricks.v1+cell": {
     "cellMetadata": {},
     "inputWidgets": {},
     "nuid": "de763d46-57b3-4616-8a35-558acc2ac35f",
     "showTitle": false,
     "tableResultSettingsMap": {},
     "title": ""
    }
   },
   "outputs": [],
   "source": [
    "most_borrowed_books = (borrowers_silver.groupBy(\"book_isbn\")\n",
    "    .agg(count(\"*\").alias(\"borrow_count\"))\n",
    "    .join(books_silver, borrowers_silver.book_isbn == books_silver.isbn)\n",
    "    .select(\"title\", \"author\", \"genre\", \"borrow_count\")\n",
    "    .orderBy(desc(\"borrow_count\"))\n",
    ")\n",
    "most_borrowed_books.write.mode(\"overwrite\").format(\"delta\").saveAsTable(\"most_borrowed_books_gold\")"
   ]
  },
  {
   "cell_type": "markdown",
   "metadata": {
    "application/vnd.databricks.v1+cell": {
     "cellMetadata": {},
     "inputWidgets": {},
     "nuid": "8067d52b-e363-479b-bcd1-ba2c64671447",
     "showTitle": false,
     "tableResultSettingsMap": {},
     "title": ""
    }
   },
   "source": [
    "#### We are viewing the table to have a look at our data. We are limiting to just 10 role."
   ]
  },
  {
   "cell_type": "code",
   "execution_count": 0,
   "metadata": {
    "application/vnd.databricks.v1+cell": {
     "cellMetadata": {
      "byteLimit": 2048000,
      "implicitDf": true,
      "rowLimit": 10000
     },
     "inputWidgets": {},
     "nuid": "742bb715-d6a7-4387-828a-0a9c9ca7ffc8",
     "showTitle": false,
     "tableResultSettingsMap": {},
     "title": ""
    }
   },
   "outputs": [],
   "source": [
    "%sql\n",
    "select * from most_borrowed_books limit 10"
   ]
  },
  {
   "cell_type": "markdown",
   "metadata": {
    "application/vnd.databricks.v1+cell": {
     "cellMetadata": {},
     "inputWidgets": {},
     "nuid": "aee9c704-95e8-4a7e-8cbf-41cc86a9f522",
     "showTitle": false,
     "tableResultSettingsMap": {},
     "title": ""
    }
   },
   "source": [
    "# Average return delay per genre\n",
    "#### This statement is going to create delay_by_genre_gold from borrowers_silver and books_silver tables after performing a join operation"
   ]
  },
  {
   "cell_type": "code",
   "execution_count": 0,
   "metadata": {
    "application/vnd.databricks.v1+cell": {
     "cellMetadata": {
      "byteLimit": 2048000,
      "rowLimit": 10000
     },
     "inputWidgets": {},
     "nuid": "66549c70-c545-4033-a57c-93d4a3261372",
     "showTitle": false,
     "tableResultSettingsMap": {},
     "title": ""
    }
   },
   "outputs": [],
   "source": [
    "\n",
    "delay_by_genre = (borrowers_silver\n",
    "    .join(books_silver, borrowers_silver.book_isbn == books_silver.isbn)\n",
    "    .groupBy(\"genre\")\n",
    "    .agg(avg(\"return_delay_days\").alias(\"avg_return_delay_days\"))\n",
    "    .orderBy(desc(\"avg_return_delay_days\"))\n",
    ")\n",
    "delay_by_genre.write.mode(\"overwrite\").format(\"delta\").saveAsTable(\"delay_by_genre_gold\")"
   ]
  },
  {
   "cell_type": "markdown",
   "metadata": {
    "application/vnd.databricks.v1+cell": {
     "cellMetadata": {},
     "inputWidgets": {},
     "nuid": "6c719b9f-c36d-4955-a6e5-32a4a582ccae",
     "showTitle": false,
     "tableResultSettingsMap": {},
     "title": ""
    }
   },
   "source": [
    "#### We are viewing the table to have a look at our data. We are limiting to just 10 role."
   ]
  },
  {
   "cell_type": "code",
   "execution_count": 0,
   "metadata": {
    "application/vnd.databricks.v1+cell": {
     "cellMetadata": {
      "byteLimit": 2048000,
      "implicitDf": true,
      "rowLimit": 10000
     },
     "inputWidgets": {},
     "nuid": "eb853fe1-2dfc-440e-a6d5-88f50c7a8107",
     "showTitle": false,
     "tableResultSettingsMap": {},
     "title": ""
    }
   },
   "outputs": [],
   "source": [
    "%sql\n",
    "select * from delay_by_genre limit 10"
   ]
  }
 ],
 "metadata": {
  "application/vnd.databricks.v1+notebook": {
   "computePreferences": null,
   "dashboards": [],
   "environmentMetadata": {
    "base_environment": "",
    "environment_version": "2"
   },
   "inputWidgetPreferences": null,
   "language": "python",
   "notebookMetadata": {
    "mostRecentlyExecutedCommandWithImplicitDF": {
     "commandId": 6087544317704046,
     "dataframes": [
      "_sqldf"
     ]
    },
    "pythonIndentUnit": 4
   },
   "notebookName": "Gold_notebook-checkpoint",
   "widgets": {}
  },
  "kernelspec": {
   "display_name": "Python 3 (ipykernel)",
   "language": "python",
   "name": "python3"
  },
  "language_info": {
   "name": "python"
  }
 },
 "nbformat": 4,
 "nbformat_minor": 0
}

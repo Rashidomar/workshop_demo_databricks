{
 "cells": [
  {
   "cell_type": "markdown",
   "metadata": {
    "application/vnd.databricks.v1+cell": {
     "cellMetadata": {},
     "inputWidgets": {},
     "nuid": "ae814716-2643-48c8-bde9-3dfa8c7a3889",
     "showTitle": false,
     "tableResultSettingsMap": {},
     "title": ""
    }
   },
   "source": [
    "### FIRST STEPS WITH DATABRICKS: Lakehouse SQL Exercises\n",
    "#### This is going to an exercise for you to try your hands on. It is simple and straight forward. Your task is easy, you just to fill in the gaps (_____) then run your solution to see if you are right.\n",
    "\n",
    "\n",
    "Author: TheDataLead Databricks Workshop\n",
    "Description: Medallion architecture exercises using SQL (Bronze → Silver → Gold)"
   ]
  },
  {
   "cell_type": "markdown",
   "metadata": {
    "application/vnd.databricks.v1+cell": {
     "cellMetadata": {},
     "inputWidgets": {},
     "nuid": "f384fcc3-1225-46c7-a77f-2ff6fc57ef98",
     "showTitle": false,
     "tableResultSettingsMap": {},
     "title": ""
    }
   },
   "source": [
    "#### Run this to list the files in the S3 bucket"
   ]
  },
  {
   "cell_type": "code",
   "execution_count": 0,
   "metadata": {
    "application/vnd.databricks.v1+cell": {
     "cellMetadata": {},
     "inputWidgets": {},
     "nuid": "3c60064b-55bd-4ca7-be89-846c1091f3af",
     "showTitle": false,
     "tableResultSettingsMap": {},
     "title": ""
    }
   },
   "outputs": [],
   "source": [
    "%sql\n",
    "\n",
    "List 's3://thedatalead-data-engineering-projects-ingestion/workshop-demo/'"
   ]
  },
  {
   "cell_type": "markdown",
   "metadata": {
    "application/vnd.databricks.v1+cell": {
     "cellMetadata": {},
     "inputWidgets": {},
     "nuid": "1d08bab7-0a25-4171-8a61-158ba5c36a7c",
     "showTitle": false,
     "tableResultSettingsMap": {},
     "title": ""
    }
   },
   "source": [
    "#### Run this to use catalog and schema"
   ]
  },
  {
   "cell_type": "code",
   "execution_count": 0,
   "metadata": {
    "application/vnd.databricks.v1+cell": {
     "cellMetadata": {},
     "inputWidgets": {},
     "nuid": "e4db6765-b8ae-47df-8dee-fb1df84e4622",
     "showTitle": false,
     "tableResultSettingsMap": {},
     "title": ""
    }
   },
   "outputs": [],
   "source": [
    "%sql\n",
    "\n",
    "use catalog demo_catalog;\n",
    "use library_schema"
   ]
  },
  {
   "cell_type": "markdown",
   "metadata": {
    "application/vnd.databricks.v1+cell": {
     "cellMetadata": {},
     "inputWidgets": {},
     "nuid": "fe2dc8bb-2d30-497c-a19d-1a99232066a4",
     "showTitle": false,
     "tableResultSettingsMap": {},
     "title": ""
    }
   },
   "source": [
    "### Bronze Layer: Ingest raw CSV files. Use right path to the files to ingest the right table\n",
    "\n",
    "#### Load books.csv"
   ]
  },
  {
   "cell_type": "code",
   "execution_count": 0,
   "metadata": {
    "application/vnd.databricks.v1+cell": {
     "cellMetadata": {},
     "inputWidgets": {},
     "nuid": "d340dad0-bbb3-45c0-aad5-2e32abdce865",
     "showTitle": false,
     "tableResultSettingsMap": {},
     "title": ""
    }
   },
   "outputs": [],
   "source": [
    "%sql\n",
    "\n",
    "DROP TABLE IF EXISTS books_bronze;\n",
    "CREATE ______\n",
    "USING CSV\n",
    "OPTIONS (\n",
    "  path = '--------',\n",
    "  header = 'true',\n",
    "  inferSchema = 'true'\n",
    ");"
   ]
  },
  {
   "cell_type": "markdown",
   "metadata": {
    "application/vnd.databricks.v1+cell": {
     "cellMetadata": {},
     "inputWidgets": {},
     "nuid": "4803292a-7f63-4fc0-988c-9112df931930",
     "showTitle": false,
     "tableResultSettingsMap": {},
     "title": ""
    }
   },
   "source": [
    "### Silver Layer: Clean and enrich the data\n",
    "#### Your task to clean books table that is handle NULLs and cast publish_date to DATE. Fill in the missing COALESCE defaults as needed.\n",
    "#### format COALESCE( ________, 'unknown') AS ______,"
   ]
  },
  {
   "cell_type": "code",
   "execution_count": 0,
   "metadata": {
    "application/vnd.databricks.v1+cell": {
     "cellMetadata": {},
     "inputWidgets": {},
     "nuid": "2e71e36a-3fcc-472f-ac50-f777f5736164",
     "showTitle": false,
     "tableResultSettingsMap": {},
     "title": ""
    }
   },
   "outputs": [],
   "source": [
    "CREATE OR REPLACE TABLE books_silver AS\n",
    "SELECT\n",
    "  isbn,\n",
    "  title,\n",
    "  author,\n",
    "  genre,\n",
    "  CAST(publish_date AS DATE) AS publish_date,\n",
    "  CAST(pages AS INT) AS pages\n",
    "FROM books_bronze;"
   ]
  },
  {
   "cell_type": "markdown",
   "metadata": {
    "application/vnd.databricks.v1+cell": {
     "cellMetadata": {},
     "inputWidgets": {},
     "nuid": "7039d496-d1dc-4883-8685-62d158f0d78e",
     "showTitle": false,
     "tableResultSettingsMap": {},
     "title": ""
    }
   },
   "source": [
    "#### Clean borrowers table and compute return_delay_days"
   ]
  },
  {
   "cell_type": "code",
   "execution_count": 0,
   "metadata": {
    "application/vnd.databricks.v1+cell": {
     "cellMetadata": {},
     "inputWidgets": {},
     "nuid": "9f4c0e37-2339-48fc-bbc6-d0e04f1206ce",
     "showTitle": false,
     "tableResultSettingsMap": {},
     "title": ""
    }
   },
   "outputs": [],
   "source": [
    "CREATE OR REPLACE TABLE staff_silver AS\n",
    "SELECT\n",
    "  staff_id,\n",
    "  name,\n",
    "  role,\n",
    "  CAST(hire_date AS DATE) AS hire_date\n",
    "FROM staff_bronze;"
   ]
  },
  {
   "cell_type": "markdown",
   "metadata": {
    "application/vnd.databricks.v1+cell": {
     "cellMetadata": {},
     "inputWidgets": {},
     "nuid": "6e5b3262-4ede-439e-af07-36de9f5af6a7",
     "showTitle": false,
     "tableResultSettingsMap": {},
     "title": ""
    }
   },
   "source": [
    "### Gold Layer: Business Metrics\n",
    "#### Most Borrowed Books\n",
    "#### This SQL statement is going to create most_borrowed_books_gold from borrowers_silver and books_silver tables after performing a join operation"
   ]
  },
  {
   "cell_type": "code",
   "execution_count": 0,
   "metadata": {
    "application/vnd.databricks.v1+cell": {
     "cellMetadata": {},
     "inputWidgets": {},
     "nuid": "29925814-1472-49c7-b3b1-c71e9fe34e06",
     "showTitle": false,
     "tableResultSettingsMap": {},
     "title": ""
    }
   },
   "outputs": [],
   "source": [
    "CREATE OR REPLACE TABLE most_borrowed_books_gold AS\n",
    "SELECT\n",
    "  b.title,\n",
    "  COUNT(*) AS borrow_count\n",
    "FROM borrowers_silver br\n",
    "____ books_silver b ON br.book_isbn = b.isbn\n",
    "GROUP BY b.title\n",
    "ORDER BY borrow_count DESC;"
   ]
  },
  {
   "cell_type": "markdown",
   "metadata": {
    "application/vnd.databricks.v1+cell": {
     "cellMetadata": {},
     "inputWidgets": {},
     "nuid": "7961fe7f-7d13-4eb9-bfc8-af4fcf427604",
     "showTitle": false,
     "tableResultSettingsMap": {},
     "title": ""
    }
   },
   "source": [
    "### Average delay by genre\n",
    "#### This SQL statement is going to create delay_by_genre_gold from borrowers_silver and books_silver tables after performing a join operation"
   ]
  },
  {
   "cell_type": "code",
   "execution_count": 0,
   "metadata": {
    "application/vnd.databricks.v1+cell": {
     "cellMetadata": {},
     "inputWidgets": {},
     "nuid": "6bfb6fb9-7e16-4908-8048-d08bc1a38c4a",
     "showTitle": false,
     "tableResultSettingsMap": {},
     "title": ""
    }
   },
   "outputs": [],
   "source": [
    "CREATE OR REPLACE TABLE delay_by_genre_gold AS\n",
    "SELECT\n",
    "  b.genre,\n",
    "  ROUND(AVG(br.return_delay_days), 2) AS avg_return_delay_days\n",
    "FROM borrowers_silver br\n",
    "____ books_silver b ON br.book_isbn = b.isbn\n",
    "GROUP BY b.genre\n",
    "ORDER BY avg_return_delay_days DESC;"
   ]
  }
 ],
 "metadata": {
  "application/vnd.databricks.v1+notebook": {
   "computePreferences": null,
   "dashboards": [],
   "environmentMetadata": {
    "base_environment": "",
    "environment_version": "2"
   },
   "inputWidgetPreferences": null,
   "language": "python",
   "notebookMetadata": {
    "pythonIndentUnit": 4
   },
   "notebookName": "demo_exercise",
   "widgets": {}
  },
  "kernelspec": {
   "display_name": "Python 3 (ipykernel)",
   "language": "python",
   "name": "python3"
  },
  "language_info": {
   "name": "python"
  }
 },
 "nbformat": 4,
 "nbformat_minor": 0
}

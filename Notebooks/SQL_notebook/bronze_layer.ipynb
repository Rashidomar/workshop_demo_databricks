{
 "cells": [
  {
   "cell_type": "markdown",
   "metadata": {
    "application/vnd.databricks.v1+cell": {
     "cellMetadata": {},
     "inputWidgets": {},
     "nuid": "faf0bcf3-d7c6-4ad7-ad69-a2be7fb21d88",
     "showTitle": false,
     "tableResultSettingsMap": {},
     "title": ""
    }
   },
   "source": [
    "# FIRST STEPS WITH DATABRICKS: FROM ZERO TO LAKEHOUSE"
   ]
  },
  {
   "cell_type": "markdown",
   "metadata": {
    "application/vnd.databricks.v1+cell": {
     "cellMetadata": {},
     "inputWidgets": {},
     "nuid": "92019425-0721-4945-a3fa-e805afe6bfa2",
     "showTitle": false,
     "tableResultSettingsMap": {},
     "title": ""
    }
   },
   "source": [
    "Welcome to the hands-on workshop for learning **Databricks Lakehouse Architecture** using the analogy of a **Library System**. This end-to-end demo showcases how to build scalable data pipelines using Bronze, Silver, and Gold layers.\n",
    "\n",
    "## Project Summary\n",
    "\n",
    "This project simulates a public library managing:\n",
    "- Books\n",
    "- Borrowers\n",
    "- Library staff\n",
    "\n",
    "It walks participants through:\n",
    "1. **Raw data ingestion (Bronze)**\n",
    "2. **Data cleaning & enrichment (Silver)**\n",
    "3. **Analytics (Gold)**\n",
    "4. **Insights (Visualisation Dashboard)**\n",
    "\n",
    "### The Medallion Architecture\n",
    "\n",
    "![screenshot](../..//images/Medal.png)\n",
    "\n",
    "\n",
    "## The Data Model \n",
    "#### A data model defines the structure and relationships within your data. It serves as a blueprint for how data is stored, understood, and used across the organization. This is going general view of our datasets.\n",
    "\n",
    "![screenshot](../../images/model.png)\n",
    "\n",
    "\n",
    "## Dashboard visualization\n",
    "#### A dashboard translates data into actionable insights through visual storytelling. It allows decision-makers to monitor, explore, and act on key metrics in real time.\n",
    "![screenshot](../../images/Dash.png)\n",
    "\n"
   ]
  },
  {
   "cell_type": "markdown",
   "metadata": {
    "application/vnd.databricks.v1+cell": {
     "cellMetadata": {},
     "inputWidgets": {},
     "nuid": "60ecf6b3-ce3e-4883-98ad-f1b32d897b05",
     "showTitle": false,
     "tableResultSettingsMap": {},
     "title": ""
    }
   },
   "source": [
    "\n",
    "#### Bronze Layer - Raw Ingestion (SQL Version)\n",
    "#### Dataset: Library Borrowing System\n",
    "\n",
    "Explanation.\n",
    "This SQL script loads raw CSV data into Delta tables so think of it as taking messy papers and filing them into the library basement. These tables are not cleaned or transformed, it is just ingested as-is.\n",
    "\n",
    "**Key points**:\n",
    "- Preserves all original data, even if messy\n",
    "- Perfect for auditing (you keep the originals)\n",
    "- Fastest way to get data into the system"
   ]
  },
  {
   "cell_type": "markdown",
   "metadata": {
    "application/vnd.databricks.v1+cell": {
     "cellMetadata": {},
     "inputWidgets": {},
     "nuid": "1034e4b2-8761-47df-8bdb-188dbf423d6b",
     "showTitle": false,
     "tableResultSettingsMap": {},
     "title": ""
    }
   },
   "source": [
    "##### We start by listing the dataset at where it is located. This gives you the individual path to all datasets. This is going to help us extract the data.\n",
    "\n",
    "\n",
    "#### We are listing the contents of the S3 bucket"
   ]
  },
  {
   "cell_type": "markdown",
   "metadata": {
    "application/vnd.databricks.v1+cell": {
     "cellMetadata": {},
     "inputWidgets": {},
     "nuid": "0127bc6e-c290-4d3f-9a88-0024d95858ff",
     "showTitle": false,
     "tableResultSettingsMap": {},
     "title": ""
    }
   },
   "source": []
  },
  {
   "cell_type": "code",
   "execution_count": 0,
   "metadata": {
    "application/vnd.databricks.v1+cell": {
     "cellMetadata": {
      "byteLimit": 2048000,
      "implicitDf": true,
      "rowLimit": 10000
     },
     "inputWidgets": {},
     "nuid": "6fdf044b-5d3e-41e3-905b-8fa525f63074",
     "showTitle": false,
     "tableResultSettingsMap": {},
     "title": ""
    }
   },
   "outputs": [],
   "source": [
    "%sql\n",
    "\n",
    "List 's3://thedatalead-data-engineering-projects-ingestion/workshop-demo/'"
   ]
  },
  {
   "cell_type": "markdown",
   "metadata": {
    "application/vnd.databricks.v1+cell": {
     "cellMetadata": {},
     "inputWidgets": {},
     "nuid": "3d767b38-2e3c-4420-80d7-ae829cdbb17a",
     "showTitle": false,
     "tableResultSettingsMap": {},
     "title": ""
    }
   },
   "source": [
    "##### We have set catalog and schema. This is going to help us create tables in selected schema. Running the cell below is going to help us achieve that."
   ]
  },
  {
   "cell_type": "code",
   "execution_count": 0,
   "metadata": {
    "application/vnd.databricks.v1+cell": {
     "cellMetadata": {
      "byteLimit": 2048000,
      "implicitDf": true,
      "rowLimit": 10000
     },
     "inputWidgets": {},
     "nuid": "4cd42189-2057-427d-906f-0cb312883042",
     "showTitle": false,
     "tableResultSettingsMap": {},
     "title": ""
    }
   },
   "outputs": [],
   "source": [
    "%sql\n",
    "use catalog demo_catalog;\n",
    "use library_schema"
   ]
  },
  {
   "cell_type": "markdown",
   "metadata": {
    "application/vnd.databricks.v1+cell": {
     "cellMetadata": {},
     "inputWidgets": {},
     "nuid": "325a3889-beb9-4046-8fa8-b6d54ef1d8c1",
     "showTitle": false,
     "tableResultSettingsMap": {},
     "title": ""
    }
   },
   "source": [
    "##### Based on the datasets we had in the path listed. We are going to ingest three datasets and create three seperate tables. The tables are:\n",
    "  - books_bronze\n",
    "  - borrowers_bronze\n",
    "  - staffs_bronze \n",
    "##### After this we use sql select statement to query the individual tables created to have a view of the dataset. "
   ]
  },
  {
   "cell_type": "markdown",
   "metadata": {
    "application/vnd.databricks.v1+cell": {
     "cellMetadata": {},
     "inputWidgets": {},
     "nuid": "a71ba0ed-ebd3-4fc7-97a8-0e4477f42bf3",
     "showTitle": false,
     "tableResultSettingsMap": {},
     "title": ""
    }
   },
   "source": [
    "#### We are ingesting books.csv into books_bronze. We are deleting the table if it exists and creating a new one."
   ]
  },
  {
   "cell_type": "code",
   "execution_count": 0,
   "metadata": {
    "application/vnd.databricks.v1+cell": {
     "cellMetadata": {
      "byteLimit": 2048000,
      "implicitDf": true,
      "rowLimit": 10000
     },
     "inputWidgets": {},
     "nuid": "bd673e01-bebc-4821-9210-ab5bacc4c8ec",
     "showTitle": false,
     "tableResultSettingsMap": {},
     "title": ""
    }
   },
   "outputs": [],
   "source": [
    "%sql\n",
    "\n",
    "DROP TABLE IF EXISTS books_bronze;\n",
    "CREATE TABLE books_bronze\n",
    "USING CSV\n",
    "OPTIONS (\n",
    "  path 's3://thedatalead-data-engineering-projects-ingestion/workshop-demo/books.csv',\n",
    "  header 'true',\n",
    "  inferSchema 'true'\n",
    ");\n"
   ]
  },
  {
   "cell_type": "markdown",
   "metadata": {
    "application/vnd.databricks.v1+cell": {
     "cellMetadata": {},
     "inputWidgets": {},
     "nuid": "f2e1a698-bc23-4bac-bedf-d7a4eb9eb8c7",
     "showTitle": false,
     "tableResultSettingsMap": {},
     "title": ""
    }
   },
   "source": [
    "##### We are viewing the table to have a look at our data. We are limiting to just 10 role.[](url)"
   ]
  },
  {
   "cell_type": "code",
   "execution_count": 0,
   "metadata": {
    "application/vnd.databricks.v1+cell": {
     "cellMetadata": {
      "byteLimit": 2048000,
      "implicitDf": true,
      "rowLimit": 10000
     },
     "inputWidgets": {},
     "nuid": "f8b20d38-6b9f-45ae-a0fa-b56b31605a10",
     "showTitle": false,
     "tableResultSettingsMap": {},
     "title": ""
    }
   },
   "outputs": [],
   "source": [
    "%sql\n",
    "Select * from books_bronze limit 10"
   ]
  },
  {
   "cell_type": "markdown",
   "metadata": {
    "application/vnd.databricks.v1+cell": {
     "cellMetadata": {},
     "inputWidgets": {},
     "nuid": "7c2f6140-e457-434e-9e22-e0728d10c38f",
     "showTitle": false,
     "tableResultSettingsMap": {},
     "title": ""
    }
   },
   "source": [
    "#### We are ingesting borrowers.csv into borrowers_bronze. We are deleting the table if it exists and creating a new one."
   ]
  },
  {
   "cell_type": "code",
   "execution_count": 0,
   "metadata": {
    "application/vnd.databricks.v1+cell": {
     "cellMetadata": {
      "byteLimit": 2048000,
      "implicitDf": true,
      "rowLimit": 10000
     },
     "inputWidgets": {},
     "nuid": "479e19c2-a146-433e-b6d9-01e1efee5ab1",
     "showTitle": false,
     "tableResultSettingsMap": {},
     "title": ""
    }
   },
   "outputs": [],
   "source": [
    "%sql\n",
    "\n",
    "DROP TABLE IF EXISTS borrowers_bronze;\n",
    "CREATE TABLE borrowers_bronze\n",
    "USING CSV\n",
    "OPTIONS (\n",
    "  path 's3://thedatalead-data-engineering-projects-ingestion/workshop-demo/borrowers.csv',\n",
    "  header 'true',\n",
    "  inferSchema 'true'\n",
    ");"
   ]
  },
  {
   "cell_type": "markdown",
   "metadata": {
    "application/vnd.databricks.v1+cell": {
     "cellMetadata": {},
     "inputWidgets": {},
     "nuid": "8bb6204b-0b67-49a9-8681-01194bf8bcf5",
     "showTitle": false,
     "tableResultSettingsMap": {},
     "title": ""
    }
   },
   "source": [
    "#### We are viewing the table to have a look at our data. We are limiting to just 10 role."
   ]
  },
  {
   "cell_type": "code",
   "execution_count": 0,
   "metadata": {
    "application/vnd.databricks.v1+cell": {
     "cellMetadata": {
      "byteLimit": 2048000,
      "implicitDf": true,
      "rowLimit": 10000
     },
     "inputWidgets": {},
     "nuid": "920a2473-5566-4ec2-9169-e97e4d519cc8",
     "showTitle": false,
     "tableResultSettingsMap": {},
     "title": ""
    }
   },
   "outputs": [],
   "source": [
    "%sql\n",
    "\n",
    "select * from borrowers_bronze limit 10"
   ]
  },
  {
   "cell_type": "markdown",
   "metadata": {
    "application/vnd.databricks.v1+cell": {
     "cellMetadata": {},
     "inputWidgets": {},
     "nuid": "914256b4-2de0-4f14-a3b7-c7f96d93f5aa",
     "showTitle": false,
     "tableResultSettingsMap": {},
     "title": ""
    }
   },
   "source": [
    "#### We are ingesting staffs.csv into staffs_bronze. We are deleting the table if it exists and creating a new one."
   ]
  },
  {
   "cell_type": "code",
   "execution_count": 0,
   "metadata": {
    "application/vnd.databricks.v1+cell": {
     "cellMetadata": {
      "byteLimit": 2048000,
      "implicitDf": true,
      "rowLimit": 10000
     },
     "inputWidgets": {},
     "nuid": "1dd53604-fd73-44de-a6e6-439d4051ce54",
     "showTitle": false,
     "tableResultSettingsMap": {},
     "title": ""
    }
   },
   "outputs": [],
   "source": [
    "%sql\n",
    "\n",
    "DROP TABLE IF EXISTS staff_bronze;\n",
    "CREATE TABLE staff_bronze\n",
    "USING CSV\n",
    "OPTIONS (\n",
    "  path 's3://thedatalead-data-engineering-projects-ingestion/workshop-demo/staff.csv',\n",
    "  header 'true',\n",
    "  inferSchema 'true'\n",
    ");\n"
   ]
  },
  {
   "cell_type": "markdown",
   "metadata": {
    "application/vnd.databricks.v1+cell": {
     "cellMetadata": {},
     "inputWidgets": {},
     "nuid": "612cd3df-a936-458a-8d99-516ef00d899e",
     "showTitle": false,
     "tableResultSettingsMap": {},
     "title": ""
    }
   },
   "source": [
    "#### We are viewing the table to have a look at our data. We are limiting to just 10 role."
   ]
  },
  {
   "cell_type": "code",
   "execution_count": 0,
   "metadata": {
    "application/vnd.databricks.v1+cell": {
     "cellMetadata": {
      "byteLimit": 2048000,
      "implicitDf": true,
      "rowLimit": 10000
     },
     "inputWidgets": {},
     "nuid": "4be81db1-6722-46a2-9ec9-26a3aaae06c2",
     "showTitle": false,
     "tableResultSettingsMap": {},
     "title": ""
    }
   },
   "outputs": [],
   "source": [
    "%sql\n",
    "\n",
    "select * from staff_bronze limit 10"
   ]
  },
  {
   "cell_type": "markdown",
   "metadata": {
    "application/vnd.databricks.v1+cell": {
     "cellMetadata": {},
     "inputWidgets": {},
     "nuid": "c97f2ce4-b814-4662-bc4f-432854f29033",
     "showTitle": false,
     "tableResultSettingsMap": {},
     "title": ""
    }
   },
   "source": [
    "### We are done with ingestion. We should see three bronze table on our library_schema"
   ]
  }
 ],
 "metadata": {
  "application/vnd.databricks.v1+notebook": {
   "computePreferences": null,
   "dashboards": [],
   "environmentMetadata": {
    "base_environment": "",
    "environment_version": "2"
   },
   "inputWidgetPreferences": null,
   "language": "python",
   "notebookMetadata": {
    "mostRecentlyExecutedCommandWithImplicitDF": {
     "commandId": 6157210580816448,
     "dataframes": [
      "_sqldf"
     ]
    },
    "pythonIndentUnit": 4
   },
   "notebookName": "bronze_layer",
   "widgets": {}
  },
  "kernelspec": {
   "display_name": "Python 3 (ipykernel)",
   "language": "python",
   "name": "python3"
  },
  "language_info": {
   "name": "python"
  }
 },
 "nbformat": 4,
 "nbformat_minor": 0
}

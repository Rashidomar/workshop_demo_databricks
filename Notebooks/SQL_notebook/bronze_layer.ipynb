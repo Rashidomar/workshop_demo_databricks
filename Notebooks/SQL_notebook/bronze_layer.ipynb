{
 "cells": [
  {
   "cell_type": "markdown",
   "metadata": {
    "application/vnd.databricks.v1+cell": {
     "cellMetadata": {},
     "inputWidgets": {},
     "nuid": "92019425-0721-4945-a3fa-e805afe6bfa2",
     "showTitle": false,
     "tableResultSettingsMap": {},
     "title": ""
    }
   },
   "source": [
    "This project follows the **Medallion Architecture**\n",
    "\n",
    "Welcome to the hands-on workshop for learning **Databricks Lakehouse Architecture** using the analogy of a **Library System**. This end-to-end demo showcases how to build scalable data pipelines using Bronze, Silver, and Gold layers..\n",
    "\n",
    "## Project Summary\n",
    "\n",
    "This project simulates a public library managing:\n",
    "- Books\n",
    "- Borrowers\n",
    "- Library staff\n",
    "\n",
    "It walks participants through:\n",
    "1. **Raw data ingestion (Bronze)**\n",
    "2. **Data cleaning & enrichment (Silver)**\n",
    "3. **Analytics (Gold)**\n",
    "\n",
    "\n",
    "![image info](/Volumes/demo_catalog/library_schema/library_volume/workshop.png)\n",
    "\n",
    "## The Data Model \n",
    "![image info](/Volumes/demo_catalog/library_schema/library_volume/Data_M.png)"
   ]
  },
  {
   "cell_type": "code",
   "execution_count": 0,
   "metadata": {
    "application/vnd.databricks.v1+cell": {
     "cellMetadata": {
      "byteLimit": 2048000,
      "rowLimit": 10000
     },
     "inputWidgets": {},
     "nuid": "bea9d23d-31b2-4651-89f0-9a5d048983bc",
     "showTitle": false,
     "tableResultSettingsMap": {},
     "title": ""
    }
   },
   "outputs": [],
   "source": [
    "%run \"../setup\""
   ]
  },
  {
   "cell_type": "markdown",
   "metadata": {
    "application/vnd.databricks.v1+cell": {
     "cellMetadata": {},
     "inputWidgets": {},
     "nuid": "60ecf6b3-ce3e-4883-98ad-f1b32d897b05",
     "showTitle": false,
     "tableResultSettingsMap": {},
     "title": ""
    }
   },
   "source": [
    "### Load raw CSVs into Bronze tables\n",
    "### Bronze Layer SQL - Ingest CSV Files\n"
   ]
  },
  {
   "cell_type": "code",
   "execution_count": 0,
   "metadata": {
    "application/vnd.databricks.v1+cell": {
     "cellMetadata": {
      "byteLimit": 2048000,
      "implicitDf": true,
      "rowLimit": 10000
     },
     "inputWidgets": {},
     "nuid": "144ff1db-2c0f-423c-86d4-03b3b1fd9530",
     "showTitle": false,
     "tableResultSettingsMap": {},
     "title": ""
    }
   },
   "outputs": [],
   "source": [
    "%sql\n",
    "CREATE TABLE books_bronze\n",
    "USING CSV\n",
    "OPTIONS (\n",
    "  path '/Volumes/demo_catalog/library_schema/library_volume/books.csv',\n",
    "  header 'true',\n",
    "  inferSchema 'true'\n",
    ");\n"
   ]
  },
  {
   "cell_type": "code",
   "execution_count": 0,
   "metadata": {
    "application/vnd.databricks.v1+cell": {
     "cellMetadata": {
      "byteLimit": 2048000,
      "implicitDf": true,
      "rowLimit": 10000
     },
     "inputWidgets": {},
     "nuid": "479e19c2-a146-433e-b6d9-01e1efee5ab1",
     "showTitle": false,
     "tableResultSettingsMap": {},
     "title": ""
    }
   },
   "outputs": [],
   "source": [
    "%sql\n",
    "-- Load borrowers.csv\n",
    "CREATE TABLE borrowers_bronze\n",
    "USING CSV\n",
    "OPTIONS (\n",
    "  path '/Volumes/demo_catalog/library_schema/library_volume/borrowers.csv',\n",
    "  header 'true',\n",
    "  inferSchema 'true'\n",
    ");"
   ]
  },
  {
   "cell_type": "code",
   "execution_count": 0,
   "metadata": {
    "application/vnd.databricks.v1+cell": {
     "cellMetadata": {},
     "inputWidgets": {},
     "nuid": "1dd53604-fd73-44de-a6e6-439d4051ce54",
     "showTitle": false,
     "tableResultSettingsMap": {},
     "title": ""
    }
   },
   "outputs": [],
   "source": [
    "%sql\n",
    "-- Load staff.csv\n",
    "CREATE TABLE staff_bronze\n",
    "USING CSV\n",
    "OPTIONS (\n",
    "  path 'dbfs:/Volumes/demo_catalog/library_schema/library_volume/staff.csv',\n",
    "  header 'true',\n",
    "  inferSchema 'true'\n",
    ");\n"
   ]
  }
 ],
 "metadata": {
  "application/vnd.databricks.v1+notebook": {
   "computePreferences": null,
   "dashboards": [],
   "environmentMetadata": {
    "base_environment": "",
    "environment_version": "2"
   },
   "inputWidgetPreferences": null,
   "language": "python",
   "notebookMetadata": {
    "mostRecentlyExecutedCommandWithImplicitDF": {
     "commandId": 7944033256879398,
     "dataframes": [
      "_sqldf"
     ]
    },
    "pythonIndentUnit": 4
   },
   "notebookName": "bronze_layer",
   "widgets": {}
  },
  "language_info": {
   "name": "python"
  }
 },
 "nbformat": 4,
 "nbformat_minor": 0
}

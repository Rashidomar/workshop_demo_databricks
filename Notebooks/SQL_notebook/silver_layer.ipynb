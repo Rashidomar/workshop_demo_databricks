{
 "cells": [
  {
   "cell_type": "code",
   "execution_count": 0,
   "metadata": {
    "application/vnd.databricks.v1+cell": {
     "cellMetadata": {},
     "inputWidgets": {},
     "nuid": "1f879a14-f9e6-49b1-bb83-6a79617779fe",
     "showTitle": false,
     "tableResultSettingsMap": {},
     "title": ""
    }
   },
   "outputs": [],
   "source": [
    "%sql\n",
    "-- ------------------------------------------\n",
    "-- Step 2: Create Silver Tables\n",
    "-- Silver Layer SQL - Clean & Standardize\n",
    "-- ------------------------------------------\n",
    "\n",
    "-- Clean books table\n",
    "CREATE OR REPLACE TABLE books_silver AS\n",
    "SELECT\n",
    "  COALESCE(isbn, 'unknown') AS isbn,\n",
    "  COALESCE(title, 'Untitled') AS title,\n",
    "  COALESCE(author, 'Unknown Author') AS author,\n",
    "  COALESCE(genre, 'Unknown') AS genre,\n",
    "  CAST(publish_date AS DATE) AS publish_date,\n",
    "  CAST(pages AS INT) AS pages\n",
    "FROM books_bronze;\n"
   ]
  },
  {
   "cell_type": "code",
   "execution_count": 0,
   "metadata": {
    "application/vnd.databricks.v1+cell": {
     "cellMetadata": {},
     "inputWidgets": {},
     "nuid": "93534391-0a58-42ff-950d-979d35c511ad",
     "showTitle": false,
     "tableResultSettingsMap": {},
     "title": ""
    }
   },
   "outputs": [],
   "source": [
    "%sql\n",
    "select * from books_silver limit 10"
   ]
  },
  {
   "cell_type": "code",
   "execution_count": 0,
   "metadata": {
    "application/vnd.databricks.v1+cell": {
     "cellMetadata": {},
     "inputWidgets": {},
     "nuid": "c1e9ab68-e336-4bec-877a-5fa53102352c",
     "showTitle": false,
     "tableResultSettingsMap": {},
     "title": ""
    }
   },
   "outputs": [],
   "source": [
    "%sql\n",
    "-- Clean borrowers table\n",
    "CREATE OR REPLACE TABLE borrowers_silver AS\n",
    "SELECT\n",
    "  COALESCE(user_id, 'unknown') AS user_id,\n",
    "  COALESCE(name, 'anonymous') AS name,\n",
    "  COALESCE(book_isbn, 'unknown') AS book_isbn,\n",
    "  CAST(COALESCE(borrow_date, '2000-01-01') AS DATE) AS borrow_date,\n",
    "  CAST(COALESCE(return_date, current_date()) AS DATE) AS return_date,\n",
    "  DATEDIFF(\n",
    "    CAST(COALESCE(return_date, current_date()) AS DATE),\n",
    "    CAST(COALESCE(borrow_date, '2000-01-01') AS DATE)\n",
    "  ) AS return_delay_days\n",
    "FROM borrowers_bronze;"
   ]
  },
  {
   "cell_type": "code",
   "execution_count": 0,
   "metadata": {
    "application/vnd.databricks.v1+cell": {
     "cellMetadata": {},
     "inputWidgets": {},
     "nuid": "5122ae9a-5576-490c-873e-3322a977f1e0",
     "showTitle": false,
     "tableResultSettingsMap": {},
     "title": ""
    }
   },
   "outputs": [],
   "source": [
    "%sql\n",
    "select * from borrowers_silver limit 10"
   ]
  },
  {
   "cell_type": "code",
   "execution_count": 0,
   "metadata": {
    "application/vnd.databricks.v1+cell": {
     "cellMetadata": {},
     "inputWidgets": {},
     "nuid": "849b2fb4-3ee7-4309-aa6f-b7408dd0ce7f",
     "showTitle": false,
     "tableResultSettingsMap": {},
     "title": ""
    }
   },
   "outputs": [],
   "source": [
    "%sql\n",
    "-- Clean staff table\n",
    "CREATE OR REPLACE TABLE staf_silver AS\n",
    "SELECT\n",
    "  COALESCE(staff_id, 'unknown') AS staff_id,\n",
    "  COALESCE(name, 'anonymous') AS name,\n",
    "  COALESCE(role, 'unknown') AS role,\n",
    "  CAST(COALESCE(hire_date, '2000-01-01') AS DATE) AS hire_date\n",
    "FROM staff_bronze;"
   ]
  },
  {
   "cell_type": "code",
   "execution_count": 0,
   "metadata": {
    "application/vnd.databricks.v1+cell": {
     "cellMetadata": {},
     "inputWidgets": {},
     "nuid": "2e14bccd-93ee-41f1-a785-e2cd6d242fe6",
     "showTitle": false,
     "tableResultSettingsMap": {},
     "title": ""
    }
   },
   "outputs": [],
   "source": [
    "%sql\n",
    "select * from staf_silver limit 10"
   ]
  },
  {
   "cell_type": "markdown",
   "metadata": {
    "application/vnd.databricks.v1+cell": {
     "cellMetadata": {},
     "inputWidgets": {},
     "nuid": "4580fb2d-00d1-4841-b4fe-d0a284fa1952",
     "showTitle": false,
     "tableResultSettingsMap": {},
     "title": ""
    }
   },
   "source": []
  }
 ],
 "metadata": {
  "application/vnd.databricks.v1+notebook": {
   "computePreferences": null,
   "dashboards": [],
   "environmentMetadata": {
    "base_environment": "",
    "environment_version": "2"
   },
   "inputWidgetPreferences": null,
   "language": "python",
   "notebookMetadata": {
    "pythonIndentUnit": 4
   },
   "notebookName": "silver_layer",
   "widgets": {}
  },
  "language_info": {
   "name": "python"
  }
 },
 "nbformat": 4,
 "nbformat_minor": 0
}

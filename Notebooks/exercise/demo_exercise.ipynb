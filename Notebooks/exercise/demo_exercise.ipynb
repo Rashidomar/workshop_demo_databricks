{
 "cells": [
  {
   "cell_type": "markdown",
   "metadata": {
    "application/vnd.databricks.v1+cell": {
     "cellMetadata": {},
     "inputWidgets": {},
     "nuid": "ae814716-2643-48c8-bde9-3dfa8c7a3889",
     "showTitle": false,
     "tableResultSettingsMap": {},
     "title": ""
    }
   },
   "source": [
    "### FIRST STEPS WITH DATABRICKS: Lakehouse SQL Exercises\n",
    "#### This is going to an exercise for you to try your hands on. It is simple and straight forward. Your task is easy, you just to fill in the gaps (_____) then run your solution to see if you are right.\n",
    "\n",
    "\n",
    "Author: TheDataLead Databricks Workshop\n",
    "Description: Medallion architecture exercises using SQL (Bronze → Silver → Gold)"
   ]
  },
  {
   "cell_type": "code",
   "execution_count": 0,
   "metadata": {
    "application/vnd.databricks.v1+cell": {
     "cellMetadata": {},
     "inputWidgets": {},
     "nuid": "3c60064b-55bd-4ca7-be89-846c1091f3af",
     "showTitle": false,
     "tableResultSettingsMap": {},
     "title": ""
    }
   },
   "outputs": [],
   "source": [
    "%sql\n",
    "-- Run this to list the files in the S3 bucket\n",
    "List 's3://thedatalead-data-engineering-projects-ingestion/workshop-demo/'"
   ]
  },
  {
   "cell_type": "code",
   "execution_count": 0,
   "metadata": {
    "application/vnd.databricks.v1+cell": {
     "cellMetadata": {},
     "inputWidgets": {},
     "nuid": "e4db6765-b8ae-47df-8dee-fb1df84e4622",
     "showTitle": false,
     "tableResultSettingsMap": {},
     "title": ""
    }
   },
   "outputs": [],
   "source": [
    "%sql\n",
    "-- Run this to use catalog and schema\n",
    "use catalog demo_catalog;\n",
    "use library_schema"
   ]
  },
  {
   "cell_type": "code",
   "execution_count": 0,
   "metadata": {
    "application/vnd.databricks.v1+cell": {
     "cellMetadata": {},
     "inputWidgets": {},
     "nuid": "d340dad0-bbb3-45c0-aad5-2e32abdce865",
     "showTitle": false,
     "tableResultSettingsMap": {},
     "title": ""
    }
   },
   "outputs": [],
   "source": [
    "%sql\n",
    "-- Bronze Layer: Ingest raw CSV files. Use right path to the files to ingest the right table\n",
    "\n",
    "-- Load books.csv\n",
    "DROP TABLE IF EXISTS books_bronze;\n",
    "CREATE ______\n",
    "USING CSV\n",
    "OPTIONS (\n",
    "  path = '--------',\n",
    "  header = 'true',\n",
    "  inferSchema = 'true'\n",
    ");\n",
    "\n",
    "-- Silver Layer: Clean and enrich the data\n",
    "-- Your task to clean books table that is handle NULLs and cast publish_date to DATE. Fill in the missing COALESCE defaults as needed.\n",
    "-- format COALESCE(____, 'unknown') AS ______,\n",
    "\n",
    "CREATE OR REPLACE TABLE books_silver AS\n",
    "SELECT\n",
    "  isbn,\n",
    "  title,\n",
    "  author,\n",
    "  genre,\n",
    "  CAST(publish_date AS DATE) AS publish_date,\n",
    "  CAST(pages AS INT) AS pages\n",
    "FROM books_bronze;\n",
    "\n",
    "-- Clean borrowers table and compute return_delay_days\n",
    "CREATE OR REPLACE TABLE borrowers_silver AS\n",
    "SELECT\n",
    "  user_id,\n",
    "  name,\n",
    "  book_isbn,\n",
    "  borrow_date,\n",
    "  CAST(return_date) AS DATE,\n",
    "  DATEDIFF(\n",
    "    CAST(___(return_date, current_date()) AS DATE),\n",
    "    CAST(____(borrow_date, '2000-01-01') AS DATE)\n",
    "  ) AS return_delay_days\n",
    "FROM borrowers_bronze;\n",
    "\n",
    "-- Clean staff table and cast hire_date\n",
    "CREATE OR REPLACE TABLE staff_silver AS\n",
    "SELECT\n",
    "  staff_id,\n",
    "  name,\n",
    "  role,\n",
    "  CAST(hire_date AS DATE) AS hire_date\n",
    "FROM staff_bronze;\n",
    "\n",
    "-- Gold Layer: Business Metrics\n",
    "-- Most Borrowed Books\n",
    "-- This SQL statement is going to create most_borrowed_books_gold from borrowers_silver and books_silver tables after performing a join operation\n",
    "CREATE OR REPLACE TABLE most_borrowed_books_gold AS\n",
    "SELECT\n",
    "  b.title,\n",
    "  COUNT(*) AS borrow_count\n",
    "FROM borrowers_silver br\n",
    "____ books_silver b ON br.book_isbn = b.isbn\n",
    "GROUP BY b.title\n",
    "ORDER BY borrow_count DESC;\n",
    "\n",
    "-- Average delay by genre\n",
    "-- This SQL statement is going to create delay_by_genre_gold from borrowers_silver and books_silver tables after performing a join operation\n",
    "CREATE OR REPLACE TABLE delay_by_genre_gold AS\n",
    "SELECT\n",
    "  b.genre,\n",
    "  ROUND(AVG(br.return_delay_days), 2) AS avg_return_delay_days\n",
    "FROM borrowers_silver br\n",
    "____ books_silver b ON br.book_isbn = b.isbn\n",
    "GROUP BY b.genre\n",
    "ORDER BY avg_return_delay_days DESC;\n",
    "\n",
    "\n"
   ]
  }
 ],
 "metadata": {
  "application/vnd.databricks.v1+notebook": {
   "computePreferences": null,
   "dashboards": [],
   "environmentMetadata": {
    "base_environment": "",
    "environment_version": "2"
   },
   "inputWidgetPreferences": null,
   "language": "python",
   "notebookMetadata": {
    "pythonIndentUnit": 4
   },
   "notebookName": "demo_exercise",
   "widgets": {}
  },
  "language_info": {
   "name": "python"
  }
 },
 "nbformat": 4,
 "nbformat_minor": 0
}

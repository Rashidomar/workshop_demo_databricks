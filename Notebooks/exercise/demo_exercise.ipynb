{
 "cells": [
  {
   "cell_type": "markdown",
   "metadata": {
    "application/vnd.databricks.v1+cell": {
     "cellMetadata": {},
     "inputWidgets": {},
     "nuid": "ae814716-2643-48c8-bde9-3dfa8c7a3889",
     "showTitle": false,
     "tableResultSettingsMap": {},
     "title": ""
    }
   },
   "source": [
    "- Databricks Notebook: Lakehouse SQL Exercises\n",
    "- Author: TheDataLead Databricks Workshop\n",
    "- Description: Medallion architecture exercises using SQL (Bronze → Silver → Gold)"
   ]
  },
  {
   "cell_type": "code",
   "execution_count": 0,
   "metadata": {
    "application/vnd.databricks.v1+cell": {
     "cellMetadata": {},
     "inputWidgets": {},
     "nuid": "3c60064b-55bd-4ca7-be89-846c1091f3af",
     "showTitle": false,
     "tableResultSettingsMap": {},
     "title": ""
    }
   },
   "outputs": [],
   "source": [
    "%sql\n",
    "-- Run this to list the files in the S3 bucket\n",
    "List 's3://thedatalead-data-engineering-projects-ingestion/workshop-demo/'"
   ]
  },
  {
   "cell_type": "code",
   "execution_count": 0,
   "metadata": {
    "application/vnd.databricks.v1+cell": {
     "cellMetadata": {},
     "inputWidgets": {},
     "nuid": "e4db6765-b8ae-47df-8dee-fb1df84e4622",
     "showTitle": false,
     "tableResultSettingsMap": {},
     "title": ""
    }
   },
   "outputs": [],
   "source": [
    "%sql\n",
    "-- Run this to use catalog and schema\n",
    "use catalog demo_catalog;\n",
    "use library_schema"
   ]
  },
  {
   "cell_type": "code",
   "execution_count": 0,
   "metadata": {
    "application/vnd.databricks.v1+cell": {
     "cellMetadata": {},
     "inputWidgets": {},
     "nuid": "d340dad0-bbb3-45c0-aad5-2e32abdce865",
     "showTitle": false,
     "tableResultSettingsMap": {},
     "title": ""
    }
   },
   "outputs": [],
   "source": [
    "%sql\n",
    "-- Bronze Layer: Ingest raw CSV files\n",
    "-- TODO 1: Replace with actual CSV path if needed\n",
    "\n",
    "-- Load books.csv\n",
    "DROP TABLE IF EXISTS books_bronze;\n",
    "CREATE books_bronze\n",
    "USING CSV\n",
    "OPTIONS (\n",
    "  path = '--------',\n",
    "  header = 'true',\n",
    "  inferSchema = 'true'\n",
    ");\n",
    "\n",
    "-- TODO 2: Repeat the same steps to create borrowers and staff from their respective files\n",
    "-- Hint: find the right path and replace in the path SQL create statement\n",
    "\n",
    "-- Silver Layer: Clean and enrich the data\n",
    "-- TODO 3: Clean books table (handle NULLs and cast publish_date)\n",
    "-- Fill in the missing COALESCE defaults as needed\n",
    "CREATE OR REPLACE TABLE books_silver AS\n",
    "SELECT\n",
    "  isbn,\n",
    "  title,\n",
    "  author,\n",
    "  genre,\n",
    "  CAST(publish_date AS DATE) AS publish_date,\n",
    "  CAST(pages AS INT) AS pages\n",
    "FROM books_bronze;\n",
    "\n",
    "-- TODO 4: Clean borrowers table and compute return_delay_days\n",
    "-- Hint: Use DATEDIFF between return_date and borrow_date\n",
    "CREATE OR REPLACE TABLE borrowers_silver AS\n",
    "SELECT\n",
    "  user_id,\n",
    "  name,\n",
    "  book_isbn,\n",
    "  CAST(borrow_date AS DATE) AS borrow_date,\n",
    "  CAST(return_date AS DATE) AS return_date,\n",
    "  -- Add return_delay_days calculation here\n",
    "  NULL AS return_delay_days\n",
    "FROM borrowers_bronze;\n",
    "\n",
    "-- TODO 5: Clean staff table and cast hire_date\n",
    "CREATE OR REPLACE TABLE staff_silver AS\n",
    "SELECT\n",
    "  staff_id,\n",
    "  name,\n",
    "  role,\n",
    "  CAST(hire_date AS DATE) AS hire_date\n",
    "FROM staff_bronze;\n",
    "\n",
    "-- Gold Layer: Business Metrics\n",
    "-- TODO 6: Most Borrowed Books\n",
    "-- Count how many times each book is borrowed\n",
    "CREATE OR REPLACE TABLE most_borrowed_books_gold AS\n",
    "SELECT\n",
    "  b.title,\n",
    "  COUNT(*) AS borrow_count\n",
    "FROM borrowers_silver br\n",
    "JOIN books_silver b ON br.book_isbn = b.isbn\n",
    "GROUP BY b.title\n",
    "ORDER BY borrow_count DESC;\n",
    "\n",
    "-- TODO 7: Average return delay by genre\n",
    "CREATE OR REPLACE TABLE delay_by_genre_gold AS\n",
    "SELECT\n",
    "  b.genre,\n",
    "  -- Calculate AVG delay here\n",
    "  NULL AS avg_return_delay_days\n",
    "FROM borrowers_silver br\n",
    "JOIN books_silver b ON br.book_isbn = b.isbn\n",
    "GROUP BY b.genre;\n",
    "\n",
    "-- TODO 8: Count staff by role\n",
    "CREATE OR REPLACE TABLE staff_count_by_role_gold AS\n",
    "SELECT\n",
    "  role,\n",
    "  COUNT(*) AS staff_count\n",
    "FROM staff_silver\n",
    "GROUP BY role;\n",
    "\n",
    "-- ✅ Bonus Challenge: Create gold.staff_hired_per_year\n",
    "-- Hint: Use YEAR(hire_date) to group by year\n"
   ]
  }
 ],
 "metadata": {
  "application/vnd.databricks.v1+notebook": {
   "computePreferences": null,
   "dashboards": [],
   "environmentMetadata": {
    "base_environment": "",
    "environment_version": "2"
   },
   "inputWidgetPreferences": null,
   "language": "python",
   "notebookMetadata": {
    "pythonIndentUnit": 4
   },
   "notebookName": "demo_exercise",
   "widgets": {}
  },
  "language_info": {
   "name": "python"
  }
 },
 "nbformat": 4,
 "nbformat_minor": 0
}

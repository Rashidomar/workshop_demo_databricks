{
 "cells": [
  {
   "cell_type": "markdown",
   "metadata": {
    "application/vnd.databricks.v1+cell": {
     "cellMetadata": {},
     "inputWidgets": {},
     "nuid": "97bda45d-147f-41fc-8f06-25bc9a9ef997",
     "showTitle": false,
     "tableResultSettingsMap": {},
     "title": ""
    }
   },
   "source": [
    "# ------------------------------------------\n",
    "# Silver Layer Notebook - Clean & Standardize\n",
    "# Dataset: Library Borrowing System\n",
    "# Author: TheDataLead AI\n",
    "# ------------------------------------------"
   ]
  },
  {
   "cell_type": "code",
   "execution_count": 0,
   "metadata": {
    "application/vnd.databricks.v1+cell": {
     "cellMetadata": {
      "byteLimit": 2048000,
      "rowLimit": 10000
     },
     "inputWidgets": {},
     "nuid": "5c64024a-56ff-4344-8025-ecf58fa3fe78",
     "showTitle": false,
     "tableResultSettingsMap": {},
     "title": ""
    }
   },
   "outputs": [],
   "source": [
    "from pyspark.sql.functions import col, to_date, datediff, lit, coalesce, current_date\n",
    "from pyspark.sql.types import *\n"
   ]
  },
  {
   "cell_type": "code",
   "execution_count": 0,
   "metadata": {
    "application/vnd.databricks.v1+cell": {
     "cellMetadata": {
      "byteLimit": 2048000,
      "rowLimit": 10000
     },
     "inputWidgets": {},
     "nuid": "a5bde57f-e7a1-4378-820d-f3d071d8f952",
     "showTitle": false,
     "tableResultSettingsMap": {},
     "title": ""
    }
   },
   "outputs": [],
   "source": [
    "books_schema = StructType([\n",
    "    StructField(\"isbn\", StringType(), False),\n",
    "    StructField(\"title\", StringType(), True),\n",
    "    StructField(\"author\", StringType(), True),\n",
    "    StructField(\"genre\", StringType(), True),\n",
    "    StructField(\"publish_date\", DateType(), True),\n",
    "    StructField(\"pages\", IntegerType(), True)\n",
    "])\n",
    "\n",
    "borrowers_schema = StructType([\n",
    "    StructField(\"user_id\", StringType(), False),\n",
    "    StructField(\"name\", StringType(), True),\n",
    "    StructField(\"book_isbn\", StringType(), True),\n",
    "    StructField(\"borrow_date\", DateType(), True),\n",
    "    StructField(\"return_date\", DateType(), True),\n",
    "    StructField(\"return_delay_days\", IntegerType(), True)\n",
    "])\n",
    "\n",
    "staff_schema = StructType([\n",
    "    StructField(\"staff_id\", StringType(), False),\n",
    "    StructField(\"name\", StringType(), True),\n",
    "    StructField(\"role\", StringType(), True),\n",
    "    StructField(\"hire_date\", DateType(), True)\n",
    "])"
   ]
  },
  {
   "cell_type": "code",
   "execution_count": 0,
   "metadata": {
    "application/vnd.databricks.v1+cell": {
     "cellMetadata": {
      "byteLimit": 2048000,
      "rowLimit": 10000
     },
     "inputWidgets": {},
     "nuid": "7fdc4114-190c-474d-aefc-3e6e8ed08019",
     "showTitle": false,
     "tableResultSettingsMap": {},
     "title": ""
    }
   },
   "outputs": [],
   "source": [
    "# Load Bronze tables\n",
    "books_bronze = spark.table(\"books_bronze\")\n",
    "borrowers_bronze = spark.table(\"borrowers_bronze\")\n",
    "staff_bronze = spark.table(\"staff_bronze\") "
   ]
  },
  {
   "cell_type": "code",
   "execution_count": 0,
   "metadata": {
    "application/vnd.databricks.v1+cell": {
     "cellMetadata": {
      "byteLimit": 2048000,
      "rowLimit": 10000
     },
     "inputWidgets": {},
     "nuid": "72a62fd8-b491-48b1-ae14-b59a57c1a631",
     "showTitle": false,
     "tableResultSettingsMap": {},
     "title": ""
    }
   },
   "outputs": [],
   "source": [
    "# Clean books data\n",
    "books_silver = books_bronze.select(\n",
    "    col(\"isbn\").cast(\"string\"),\n",
    "    col(\"title\"),\n",
    "    col(\"author\"),\n",
    "    col(\"genre\"),\n",
    "    to_date(col(\"publish_date\")).alias(\"publish_date\"),\n",
    "    col(\"pages\").cast(\"int\")\n",
    ")\n",
    "books_silver.write.mode(\"overwrite\").format(\"delta\").option(\"overwriteSchema\", True).saveAsTable(\"books_silver\")"
   ]
  },
  {
   "cell_type": "code",
   "execution_count": 0,
   "metadata": {
    "application/vnd.databricks.v1+cell": {
     "cellMetadata": {
      "byteLimit": 2048000,
      "implicitDf": true,
      "rowLimit": 10000
     },
     "inputWidgets": {},
     "nuid": "4787c888-7b3e-4913-92e4-40aca02f381e",
     "showTitle": false,
     "tableResultSettingsMap": {},
     "title": ""
    }
   },
   "outputs": [],
   "source": [
    "%sql\n",
    "select * from books_silver limit 10"
   ]
  },
  {
   "cell_type": "code",
   "execution_count": 0,
   "metadata": {
    "application/vnd.databricks.v1+cell": {
     "cellMetadata": {
      "byteLimit": 2048000,
      "implicitDf": true,
      "rowLimit": 10000
     },
     "inputWidgets": {},
     "nuid": "e3076e66-2e21-4f22-8bc7-95c77a926030",
     "showTitle": false,
     "tableResultSettingsMap": {},
     "title": ""
    }
   },
   "outputs": [],
   "source": [
    "%sql\n",
    "CREATE OR REPLACE TABLE borrowers_silver\n",
    "USING DELTA\n",
    "AS\n",
    "SELECT\n",
    "  COALESCE(user_id, 'unknown') AS user_id,\n",
    "  COALESCE(name, 'anonymous') AS name,\n",
    "  COALESCE(book_isbn, 'unknown') AS book_isbn,\n",
    "  TO_DATE(COALESCE(borrow_date, '2000-01-01')) AS borrow_date,\n",
    "  TO_DATE(COALESCE(return_date, '2000-01-01')) AS return_date,\n",
    "  DATEDIFF(\n",
    "    TO_DATE(COALESCE(return_date, '2000-01-01')),\n",
    "    TO_DATE(COALESCE(borrow_date, '2000-01-01'))\n",
    "  ) AS return_delay_days\n",
    "FROM borrowers_bronze;"
   ]
  },
  {
   "cell_type": "code",
   "execution_count": 0,
   "metadata": {
    "application/vnd.databricks.v1+cell": {
     "cellMetadata": {
      "byteLimit": 2048000,
      "rowLimit": 10000
     },
     "inputWidgets": {},
     "nuid": "4cbdc518-e9e6-4e98-9643-f54ed88d15c8",
     "showTitle": false,
     "tableResultSettingsMap": {},
     "title": ""
    }
   },
   "outputs": [],
   "source": [
    "# Clean borrowers data\n",
    "borrowers_silver = borrowers_bronze.select(\n",
    "    col(\"user_id\"),\n",
    "    col(\"name\"),\n",
    "    col(\"book_isbn\"),\n",
    "    col(\"borrow_date\"),\n",
    "    to_date(coalesce(col(\"return_date\"), current_date())).alias(\"return_date\"),\n",
    "    datediff(\n",
    "        to_date(coalesce(col(\"return_date\"), current_date())),\n",
    "        to_date(coalesce(col(\"borrow_date\"), lit(\"2000-01-01\")))\n",
    "    ).alias(\"return_delay_days\")\n",
    ")\n",
    "\n",
    "borrowers_silver.write.mode(\"overwrite\").format(\"delta\").option(\"overwriteSchema\", True).saveAsTable(\"borrowers_silver\")"
   ]
  },
  {
   "cell_type": "code",
   "execution_count": 0,
   "metadata": {
    "application/vnd.databricks.v1+cell": {
     "cellMetadata": {
      "byteLimit": 2048000,
      "implicitDf": true,
      "rowLimit": 10000
     },
     "inputWidgets": {},
     "nuid": "82c843f9-fdb8-4973-8bb7-4d803028fa04",
     "showTitle": false,
     "tableResultSettingsMap": {},
     "title": ""
    }
   },
   "outputs": [],
   "source": [
    "%sql\n",
    "select * from borrowers_silver limit 10"
   ]
  },
  {
   "cell_type": "code",
   "execution_count": 0,
   "metadata": {
    "application/vnd.databricks.v1+cell": {
     "cellMetadata": {
      "byteLimit": 2048000,
      "rowLimit": 10000
     },
     "inputWidgets": {},
     "nuid": "4a1acd80-c18d-4a8e-bd5c-6a0a6870f68e",
     "showTitle": false,
     "tableResultSettingsMap": {},
     "title": ""
    }
   },
   "outputs": [],
   "source": [
    "# Clean staff data\n",
    "staff_silver = staff_bronze.select(\n",
    "    col(\"staff_id\").cast(\"string\"),\n",
    "    col(\"name\"),\n",
    "    col(\"role\"),\n",
    "    to_date(col(\"hire_date\")).alias(\"hire_date\")\n",
    ")\n",
    "staff_silver.write.mode(\"overwrite\").format(\"delta\").option(\"overwriteSchema\", True).saveAsTable(\"staff_silver\")"
   ]
  },
  {
   "cell_type": "code",
   "execution_count": 0,
   "metadata": {
    "application/vnd.databricks.v1+cell": {
     "cellMetadata": {
      "byteLimit": 2048000,
      "implicitDf": true,
      "rowLimit": 10000
     },
     "inputWidgets": {},
     "nuid": "a0262fef-8a57-483a-b650-02eea9d3615f",
     "showTitle": false,
     "tableResultSettingsMap": {},
     "title": ""
    }
   },
   "outputs": [],
   "source": [
    "%sql\n",
    "select * from staff_silver limit 10"
   ]
  }
 ],
 "metadata": {
  "application/vnd.databricks.v1+notebook": {
   "computePreferences": null,
   "dashboards": [],
   "environmentMetadata": {
    "base_environment": "",
    "environment_version": "2"
   },
   "inputWidgetPreferences": null,
   "language": "python",
   "notebookMetadata": {
    "mostRecentlyExecutedCommandWithImplicitDF": {
     "commandId": 6087544317704025,
     "dataframes": [
      "_sqldf"
     ]
    },
    "pythonIndentUnit": 4
   },
   "notebookName": "Silver_notebook",
   "widgets": {}
  },
  "language_info": {
   "name": "python"
  }
 },
 "nbformat": 4,
 "nbformat_minor": 0
}

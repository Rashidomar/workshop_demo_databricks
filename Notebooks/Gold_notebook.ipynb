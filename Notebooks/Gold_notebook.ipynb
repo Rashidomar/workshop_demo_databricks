{
 "cells": [
  {
   "cell_type": "markdown",
   "metadata": {
    "application/vnd.databricks.v1+cell": {
     "cellMetadata": {},
     "inputWidgets": {},
     "nuid": "e572eccb-81d7-4a28-98c1-dcb331e382bd",
     "showTitle": false,
     "tableResultSettingsMap": {},
     "title": ""
    }
   },
   "source": [
    "# ------------------------------------------\n",
    "# Gold Layer Notebook - Business Analytics\n",
    "# Dataset: Library Borrowing System\n",
    "# Author: TheDataLead\n",
    "# ------------------------------------------"
   ]
  },
  {
   "cell_type": "code",
   "execution_count": 0,
   "metadata": {
    "application/vnd.databricks.v1+cell": {
     "cellMetadata": {
      "byteLimit": 2048000,
      "rowLimit": 10000
     },
     "inputWidgets": {},
     "nuid": "921cd03d-8b90-4465-8fff-f2782b183463",
     "showTitle": false,
     "tableResultSettingsMap": {},
     "title": ""
    }
   },
   "outputs": [],
   "source": [
    "from pyspark.sql.functions import count, avg, desc\n"
   ]
  },
  {
   "cell_type": "code",
   "execution_count": 0,
   "metadata": {
    "application/vnd.databricks.v1+cell": {
     "cellMetadata": {
      "byteLimit": 2048000,
      "rowLimit": 10000
     },
     "inputWidgets": {},
     "nuid": "9f47e0c5-75f0-4c56-8b4d-10b3e8b04f1b",
     "showTitle": false,
     "tableResultSettingsMap": {},
     "title": ""
    }
   },
   "outputs": [],
   "source": [
    "# Load Silver tables\n",
    "books_silver = spark.table(\"books_silver\")\n",
    "borrowers_silver = spark.table(\"borrowers_silver\")\n"
   ]
  },
  {
   "cell_type": "code",
   "execution_count": 0,
   "metadata": {
    "application/vnd.databricks.v1+cell": {
     "cellMetadata": {
      "byteLimit": 2048000,
      "rowLimit": 10000
     },
     "inputWidgets": {},
     "nuid": "4d42da32-2478-4644-a2a6-c24c8374d1ac",
     "showTitle": false,
     "tableResultSettingsMap": {},
     "title": ""
    }
   },
   "outputs": [],
   "source": [
    "\n",
    "# 1. Most borrowed books\n",
    "most_borrowed_books = (borrowers_silver.groupBy(\"book_isbn\")\n",
    "    .agg(count(\"*\").alias(\"borrow_count\"))\n",
    "    .join(books_silver, borrowers_silver.book_isbn == books_silver.isbn)\n",
    "    .select(\"title\", \"author\", \"genre\", \"borrow_count\")\n",
    "    .orderBy(desc(\"borrow_count\"))\n",
    ")\n",
    "most_borrowed_books.write.mode(\"overwrite\").format(\"delta\").saveAsTable(\"most_borrowed_books\")"
   ]
  },
  {
   "cell_type": "code",
   "execution_count": 0,
   "metadata": {
    "application/vnd.databricks.v1+cell": {
     "cellMetadata": {
      "byteLimit": 2048000,
      "implicitDf": true,
      "rowLimit": 10000
     },
     "inputWidgets": {},
     "nuid": "742bb715-d6a7-4387-828a-0a9c9ca7ffc8",
     "showTitle": false,
     "tableResultSettingsMap": {},
     "title": ""
    }
   },
   "outputs": [],
   "source": [
    "%sql\n",
    "select * from most_borrowed_books limit 10"
   ]
  },
  {
   "cell_type": "code",
   "execution_count": 0,
   "metadata": {
    "application/vnd.databricks.v1+cell": {
     "cellMetadata": {
      "byteLimit": 2048000,
      "rowLimit": 10000
     },
     "inputWidgets": {},
     "nuid": "66549c70-c545-4033-a57c-93d4a3261372",
     "showTitle": false,
     "tableResultSettingsMap": {},
     "title": ""
    }
   },
   "outputs": [],
   "source": [
    "# 2. Average return delay per genre\n",
    "delay_by_genre = (borrowers_silver\n",
    "    .join(books_silver, borrowers_silver.book_isbn == books_silver.isbn)\n",
    "    .groupBy(\"genre\")\n",
    "    .agg(avg(\"return_delay_days\").alias(\"avg_return_delay_days\"))\n",
    "    .orderBy(desc(\"avg_return_delay_days\"))\n",
    ")\n",
    "delay_by_genre.write.mode(\"overwrite\").format(\"delta\").saveAsTable(\"delay_by_genre\")"
   ]
  },
  {
   "cell_type": "code",
   "execution_count": 0,
   "metadata": {
    "application/vnd.databricks.v1+cell": {
     "cellMetadata": {
      "byteLimit": 2048000,
      "implicitDf": true,
      "rowLimit": 10000
     },
     "inputWidgets": {},
     "nuid": "eb853fe1-2dfc-440e-a6d5-88f50c7a8107",
     "showTitle": false,
     "tableResultSettingsMap": {},
     "title": ""
    }
   },
   "outputs": [],
   "source": [
    "%sql\n",
    "select * from delay_by_genre limit 10"
   ]
  }
 ],
 "metadata": {
  "application/vnd.databricks.v1+notebook": {
   "computePreferences": null,
   "dashboards": [],
   "environmentMetadata": {
    "base_environment": "",
    "environment_version": "2"
   },
   "inputWidgetPreferences": null,
   "language": "python",
   "notebookMetadata": {
    "mostRecentlyExecutedCommandWithImplicitDF": {
     "commandId": 6087544317704046,
     "dataframes": [
      "_sqldf"
     ]
    },
    "pythonIndentUnit": 4
   },
   "notebookName": "Gold_notebook",
   "widgets": {}
  },
  "language_info": {
   "name": "python"
  }
 },
 "nbformat": 4,
 "nbformat_minor": 0
}

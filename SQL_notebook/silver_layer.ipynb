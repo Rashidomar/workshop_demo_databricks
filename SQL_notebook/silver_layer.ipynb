{
 "cells": [
  {
   "cell_type": "markdown",
   "metadata": {
    "application/vnd.databricks.v1+cell": {
     "cellMetadata": {},
     "inputWidgets": {},
     "nuid": "d8cfdfa2-5ad9-424e-844a-30bca07c8428",
     "showTitle": false,
     "tableResultSettingsMap": {},
     "title": ""
    }
   },
   "source": [
    "Silver Layer - Clean and Standardize (SQL Version)\n",
    "\n",
    "In this layer we are going to clean and transform the raw Bronze data by:\n",
    "  - Casting dates to proper format\n",
    "  - Handling missing/null values\n",
    "  - Adding `return_delay_days` to track delays\n",
    "  \n",
    "You can think of this as librarians organizing, tagging, and fixing messy book records."
   ]
  },
  {
   "cell_type": "markdown",
   "metadata": {
    "application/vnd.databricks.v1+cell": {
     "cellMetadata": {},
     "inputWidgets": {},
     "nuid": "83a00cf4-f63e-425a-b69d-0825c5ecaad2",
     "showTitle": false,
     "tableResultSettingsMap": {},
     "title": ""
    }
   },
   "source": [
    "##### We are going to clean and standize the three bronze tables to produce three separate sliver tables. The tables are:\n",
    "  - books_silver\n",
    "  - borrowers_silver\n",
    "  - staffs_silver\n",
    "##### After this we use sql select statement to query the individual tables created to have a view of the dataset. "
   ]
  },
  {
   "cell_type": "markdown",
   "metadata": {
    "application/vnd.databricks.v1+cell": {
     "cellMetadata": {},
     "inputWidgets": {},
     "nuid": "a6cdb024-9564-48cb-9ee5-2dda50d67d7f",
     "showTitle": false,
     "tableResultSettingsMap": {},
     "title": ""
    }
   },
   "source": [
    "#### This SQL statement is going to create books_silver from books_bronze table after cleaning and transforming the selected rows in the books_bronze.\n",
    "- The coalesce() function helps us to handle null values by giving us the option to provide a default.\n",
    "- The cast() function helps us to channge the data type"
   ]
  },
  {
   "cell_type": "code",
   "execution_count": 0,
   "metadata": {
    "application/vnd.databricks.v1+cell": {
     "cellMetadata": {
      "byteLimit": 2048000,
      "implicitDf": true,
      "rowLimit": 10000
     },
     "inputWidgets": {},
     "nuid": "1f879a14-f9e6-49b1-bb83-6a79617779fe",
     "showTitle": false,
     "tableResultSettingsMap": {},
     "title": ""
    }
   },
   "outputs": [],
   "source": [
    "%sql\n",
    " \n",
    "CREATE OR REPLACE TABLE books_silver AS\n",
    "SELECT\n",
    "  COALESCE(isbn, 'unknown') AS isbn,\n",
    "  COALESCE(title, 'Untitled') AS title,\n",
    "  COALESCE(author, 'Unknown Author') AS author,\n",
    "  COALESCE(genre, 'Unknown') AS genre,\n",
    "  CAST(publish_date AS DATE) AS publish_date,\n",
    "  CAST(pages AS INT) AS pages\n",
    "FROM books_bronze;\n"
   ]
  },
  {
   "cell_type": "markdown",
   "metadata": {
    "application/vnd.databricks.v1+cell": {
     "cellMetadata": {},
     "inputWidgets": {},
     "nuid": "1d3a88de-6fb6-46ce-8805-c88711907e31",
     "showTitle": false,
     "tableResultSettingsMap": {},
     "title": ""
    }
   },
   "source": [
    "#### We are viewing the table to have a look at our data. We are limiting to just 10 role."
   ]
  },
  {
   "cell_type": "code",
   "execution_count": 0,
   "metadata": {
    "application/vnd.databricks.v1+cell": {
     "cellMetadata": {
      "byteLimit": 2048000,
      "implicitDf": true,
      "rowLimit": 10000
     },
     "inputWidgets": {},
     "nuid": "93534391-0a58-42ff-950d-979d35c511ad",
     "showTitle": false,
     "tableResultSettingsMap": {},
     "title": ""
    }
   },
   "outputs": [],
   "source": [
    "%sql\n",
    "\n",
    "select * from books_silver limit 10"
   ]
  },
  {
   "cell_type": "markdown",
   "metadata": {
    "application/vnd.databricks.v1+cell": {
     "cellMetadata": {},
     "inputWidgets": {},
     "nuid": "07e54b46-dd59-4943-b1eb-5782d2779931",
     "showTitle": false,
     "tableResultSettingsMap": {},
     "title": ""
    }
   },
   "source": [
    "#### This SQL statement is going to create borrowers_silver from borrowers_bronze table after cleaning and transforming the selected rows in the books_bronze. \n",
    "- The coalesce() function helps us to handle null values by giving us the option to provide a default.\n",
    "- The cast() function helps us to channge the data type\n",
    "- The datediff() function helps to get the difference between two dates"
   ]
  },
  {
   "cell_type": "code",
   "execution_count": 0,
   "metadata": {
    "application/vnd.databricks.v1+cell": {
     "cellMetadata": {
      "byteLimit": 2048000,
      "implicitDf": true,
      "rowLimit": 10000
     },
     "inputWidgets": {},
     "nuid": "c1e9ab68-e336-4bec-877a-5fa53102352c",
     "showTitle": false,
     "tableResultSettingsMap": {},
     "title": ""
    }
   },
   "outputs": [],
   "source": [
    "%sql\n",
    "\n",
    "CREATE OR REPLACE TABLE borrowers_silver AS\n",
    "SELECT\n",
    "  COALESCE(user_id, 'unknown') AS user_id,\n",
    "  COALESCE(name, 'anonymous') AS name,\n",
    "  COALESCE(book_isbn, 'unknown') AS book_isbn,\n",
    "  CAST(COALESCE(borrow_date, '2000-01-01') AS DATE) AS borrow_date,\n",
    "  CAST(COALESCE(return_date, current_date()) AS DATE) AS return_date,\n",
    "  DATEDIFF(\n",
    "    CAST(COALESCE(return_date, current_date()) AS DATE),\n",
    "    CAST(COALESCE(borrow_date, '2000-01-01') AS DATE)\n",
    "  ) AS return_delay_days\n",
    "FROM borrowers_bronze;"
   ]
  },
  {
   "cell_type": "markdown",
   "metadata": {
    "application/vnd.databricks.v1+cell": {
     "cellMetadata": {},
     "inputWidgets": {},
     "nuid": "082fea14-d3e6-4bd0-9797-1f536969d623",
     "showTitle": false,
     "tableResultSettingsMap": {},
     "title": ""
    }
   },
   "source": [
    "#### We are viewing the table to have a look at our data. We are limiting to just 10 role."
   ]
  },
  {
   "cell_type": "code",
   "execution_count": 0,
   "metadata": {
    "application/vnd.databricks.v1+cell": {
     "cellMetadata": {
      "byteLimit": 2048000,
      "implicitDf": true,
      "rowLimit": 10000
     },
     "inputWidgets": {},
     "nuid": "5122ae9a-5576-490c-873e-3322a977f1e0",
     "showTitle": false,
     "tableResultSettingsMap": {},
     "title": ""
    }
   },
   "outputs": [],
   "source": [
    "%sql\n",
    "\n",
    "select * from borrowers_silver limit 10"
   ]
  },
  {
   "cell_type": "markdown",
   "metadata": {
    "application/vnd.databricks.v1+cell": {
     "cellMetadata": {},
     "inputWidgets": {},
     "nuid": "85306570-37c0-4daa-a5ce-aea9a38ab121",
     "showTitle": false,
     "tableResultSettingsMap": {},
     "title": ""
    }
   },
   "source": [
    "#### This SQL statement is going to create staff_silver from staff_bronze table after cleaaing and transforming the selected rows in the staff_bronze. \n",
    "- The coalesce() function helps us to handle null values by giving us the option to provide a default.\n",
    "- The cast() function helps us to channge the data type\n",
    "\n"
   ]
  },
  {
   "cell_type": "code",
   "execution_count": 0,
   "metadata": {
    "application/vnd.databricks.v1+cell": {
     "cellMetadata": {
      "byteLimit": 2048000,
      "implicitDf": true,
      "rowLimit": 10000
     },
     "inputWidgets": {},
     "nuid": "849b2fb4-3ee7-4309-aa6f-b7408dd0ce7f",
     "showTitle": false,
     "tableResultSettingsMap": {},
     "title": ""
    }
   },
   "outputs": [],
   "source": [
    "%sql\n",
    "\n",
    "CREATE OR REPLACE TABLE staff_silver AS\n",
    "SELECT\n",
    "  COALESCE(staff_id, 'unknown') AS staff_id,\n",
    "  COALESCE(name, 'anonymous') AS name,\n",
    "  COALESCE(role, 'unknown') AS role,\n",
    "  CAST(COALESCE(hire_date, '2000-01-01') AS DATE) AS hire_date\n",
    "FROM staff_bronze;"
   ]
  },
  {
   "cell_type": "markdown",
   "metadata": {
    "application/vnd.databricks.v1+cell": {
     "cellMetadata": {},
     "inputWidgets": {},
     "nuid": "78e9525c-fd79-4caf-b182-a2df8ae32df0",
     "showTitle": false,
     "tableResultSettingsMap": {},
     "title": ""
    }
   },
   "source": [
    "#### We are viewing the table to have a look at our data. We are limiting to just 10 role."
   ]
  },
  {
   "cell_type": "code",
   "execution_count": 0,
   "metadata": {
    "application/vnd.databricks.v1+cell": {
     "cellMetadata": {
      "byteLimit": 2048000,
      "implicitDf": true,
      "rowLimit": 10000
     },
     "inputWidgets": {},
     "nuid": "2e14bccd-93ee-41f1-a785-e2cd6d242fe6",
     "showTitle": false,
     "tableResultSettingsMap": {},
     "title": ""
    }
   },
   "outputs": [],
   "source": [
    "%sql\n",
    "\n",
    "select * from staff_silver limit 10"
   ]
  },
  {
   "cell_type": "markdown",
   "metadata": {
    "application/vnd.databricks.v1+cell": {
     "cellMetadata": {},
     "inputWidgets": {},
     "nuid": "4580fb2d-00d1-4841-b4fe-d0a284fa1952",
     "showTitle": false,
     "tableResultSettingsMap": {},
     "title": ""
    }
   },
   "source": []
  }
 ],
 "metadata": {
  "application/vnd.databricks.v1+notebook": {
   "computePreferences": null,
   "dashboards": [],
   "environmentMetadata": {
    "base_environment": "",
    "environment_version": "2"
   },
   "inputWidgetPreferences": null,
   "language": "python",
   "notebookMetadata": {
    "mostRecentlyExecutedCommandWithImplicitDF": {
     "commandId": 5827040089049132,
     "dataframes": [
      "_sqldf"
     ]
    },
    "pythonIndentUnit": 4
   },
   "notebookName": "silver_layer",
   "widgets": {}
  },
  "kernelspec": {
   "display_name": "Python 3 (ipykernel)",
   "language": "python",
   "name": "python3"
  },
  "language_info": {
   "name": "python"
  }
 },
 "nbformat": 4,
 "nbformat_minor": 0
}

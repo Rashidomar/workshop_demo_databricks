{
 "cells": [
  {
   "cell_type": "markdown",
   "metadata": {
    "application/vnd.databricks.v1+cell": {
     "cellMetadata": {},
     "inputWidgets": {},
     "nuid": "cb3c32db-29da-46b9-9d9a-402443b9b2d9",
     "showTitle": false,
     "tableResultSettingsMap": {},
     "title": ""
    }
   },
   "source": [
    "Gold Layer - Business Analytics (SQL)\n",
    "\n",
    "Explanation:\n",
    "-- In this layer we are gooing to produce business analysis from the cleaned Silver data.\n",
    "  - Most borrowed books\n",
    "  - Average delay per genre\n",
    "  - staff count by role\n",
    "  \n",
    "**Think of this as:** The library's monthly reports that help make decisions about which books to buy more of."
   ]
  },
  {
   "cell_type": "markdown",
   "metadata": {
    "application/vnd.databricks.v1+cell": {
     "cellMetadata": {},
     "inputWidgets": {},
     "nuid": "7d24d2ef-dfad-411a-a1fa-e23af2222b4c",
     "showTitle": false,
     "tableResultSettingsMap": {},
     "title": ""
    }
   },
   "source": [
    "##### We have set catalog and schema. This is going to help us create tables in selected schema. Running the cell below is going to help us achieve that."
   ]
  },
  {
   "cell_type": "code",
   "execution_count": 0,
   "metadata": {
    "application/vnd.databricks.v1+cell": {
     "cellMetadata": {
      "byteLimit": 2048000,
      "implicitDf": true,
      "rowLimit": 10000
     },
     "inputWidgets": {},
     "nuid": "3aa6daa1-fa38-4b9f-9733-31026376a4e6",
     "showTitle": false,
     "tableResultSettingsMap": {},
     "title": ""
    }
   },
   "outputs": [],
   "source": [
    "%sql\n",
    "use catalog demo_catalog;\n",
    "use library_schema"
   ]
  },
  {
   "cell_type": "markdown",
   "metadata": {
    "application/vnd.databricks.v1+cell": {
     "cellMetadata": {},
     "inputWidgets": {},
     "nuid": "b44ec8bd-2392-45bd-943e-2502bd0e7416",
     "showTitle": false,
     "tableResultSettingsMap": {},
     "title": ""
    }
   },
   "source": [
    "##### We are going to performa data aggregation by combing two or more tables silver tables to produce three seperate gold tables. The tables are:\n",
    "  - most_borrowed_books_gold\n",
    "  - delay_by_genre_gold\n",
    "  - staff_count_by_role_gold\n",
    "##### After this we use sql select statement to query the individual tables created to have a view of the dataset. "
   ]
  },
  {
   "cell_type": "markdown",
   "metadata": {
    "application/vnd.databricks.v1+cell": {
     "cellMetadata": {},
     "inputWidgets": {},
     "nuid": "d8e71fcb-c965-42c1-aace-dccf0c8eea31",
     "showTitle": false,
     "tableResultSettingsMap": {},
     "title": ""
    }
   },
   "source": [
    "### Most borrowed books\n",
    "#### This SQL statement is going to create most_borrowed_books_gold from borrowers_silver and books_silver tables after performing a join operation"
   ]
  },
  {
   "cell_type": "code",
   "execution_count": 0,
   "metadata": {
    "application/vnd.databricks.v1+cell": {
     "cellMetadata": {
      "byteLimit": 2048000,
      "implicitDf": true,
      "rowLimit": 10000
     },
     "inputWidgets": {},
     "nuid": "56d6a3b8-ee31-4b72-8e5e-1023e9a3a88f",
     "showTitle": false,
     "tableResultSettingsMap": {},
     "title": ""
    }
   },
   "outputs": [],
   "source": [
    "%sql\n",
    "\n",
    "CREATE OR REPLACE TABLE most_borrowed_books_gold AS\n",
    "SELECT\n",
    "  b.title,\n",
    "  b.author,\n",
    "  b.genre,\n",
    "  COUNT(*) AS borrow_count\n",
    "FROM borrowers_silver br\n",
    "JOIN books_silver b ON br.book_isbn = b.isbn\n",
    "GROUP BY b.title, b.author, b.genre\n",
    "ORDER BY borrow_count DESC;\n"
   ]
  },
  {
   "cell_type": "markdown",
   "metadata": {
    "application/vnd.databricks.v1+cell": {
     "cellMetadata": {},
     "inputWidgets": {},
     "nuid": "3fe2736c-4139-49a9-bd5d-0aac1d617574",
     "showTitle": false,
     "tableResultSettingsMap": {},
     "title": ""
    }
   },
   "source": [
    "#### We are viewing the table to have a look at our data. We are limiting to just 10 role."
   ]
  },
  {
   "cell_type": "code",
   "execution_count": 0,
   "metadata": {
    "application/vnd.databricks.v1+cell": {
     "cellMetadata": {},
     "inputWidgets": {},
     "nuid": "e51e4901-f1fb-43dc-9a0e-9d9fd7f5b7c1",
     "showTitle": false,
     "tableResultSettingsMap": {},
     "title": ""
    }
   },
   "outputs": [],
   "source": [
    "%sql\n",
    "\n",
    "select * from most_borrowed_books_gold limit 10"
   ]
  },
  {
   "cell_type": "markdown",
   "metadata": {
    "application/vnd.databricks.v1+cell": {
     "cellMetadata": {},
     "inputWidgets": {},
     "nuid": "286a8924-4977-4d8f-81ed-0d2a551f52ab",
     "showTitle": false,
     "tableResultSettingsMap": {},
     "title": ""
    }
   },
   "source": [
    "### Average delay by genre\n",
    "#### This SQL statement is going to create delay_by_genre_gold from borrowers_silver and books_silver tables after performing a join operation"
   ]
  },
  {
   "cell_type": "code",
   "execution_count": 0,
   "metadata": {
    "application/vnd.databricks.v1+cell": {
     "cellMetadata": {},
     "inputWidgets": {},
     "nuid": "2651a075-8b3d-4e3c-b79e-2890e63d8a88",
     "showTitle": false,
     "tableResultSettingsMap": {},
     "title": ""
    }
   },
   "outputs": [],
   "source": [
    "%sql\n",
    "\n",
    "CREATE OR REPLACE TABLE delay_by_genre_gold AS\n",
    "SELECT\n",
    "  b.genre,\n",
    "  ROUND(AVG(br.return_delay_days), 2) AS avg_return_delay_days\n",
    "FROM borrowers_silver br\n",
    "JOIN books_silver b ON br.book_isbn = b.isbn\n",
    "GROUP BY b.genre\n",
    "ORDER BY avg_return_delay_days DESC;"
   ]
  },
  {
   "cell_type": "code",
   "execution_count": 0,
   "metadata": {
    "application/vnd.databricks.v1+cell": {
     "cellMetadata": {},
     "inputWidgets": {},
     "nuid": "840ae5fe-fb1a-47c7-9590-df0411627494",
     "showTitle": false,
     "tableResultSettingsMap": {},
     "title": ""
    }
   },
   "outputs": [],
   "source": [
    "%sql\n",
    "-- We are viewing the table to have a look at our data. We are limiting to just 10 role.\n",
    "select * from delay_by_genre_gold limit 10"
   ]
  },
  {
   "cell_type": "code",
   "execution_count": 0,
   "metadata": {
    "application/vnd.databricks.v1+cell": {
     "cellMetadata": {},
     "inputWidgets": {},
     "nuid": "73ff2c40-8d7f-44d6-866b-41d0616b58b6",
     "showTitle": false,
     "tableResultSettingsMap": {},
     "title": ""
    }
   },
   "outputs": [],
   "source": [
    "%sql\n",
    "-- Count of staff by role\n",
    "-- This SQL statement is going to create taff_count_by_role_gold from staff_silver tables.\n",
    "CREATE OR REPLACE TABLE staff_count_by_role_gold AS\n",
    "SELECT\n",
    "  role,\n",
    "  COUNT(*) AS staff_count\n",
    "FROM staff_silver\n",
    "GROUP BY role\n",
    "ORDER BY staff_count DESC;"
   ]
  },
  {
   "cell_type": "code",
   "execution_count": 0,
   "metadata": {
    "application/vnd.databricks.v1+cell": {
     "cellMetadata": {},
     "inputWidgets": {},
     "nuid": "a9149810-83db-4bda-ae81-95860574ce68",
     "showTitle": false,
     "tableResultSettingsMap": {},
     "title": ""
    }
   },
   "outputs": [],
   "source": [
    "%sql\n",
    "-- We are viewing the table to have a look at our data. We are limiting to just 10 role.\n",
    "select * from staff_count_by_role_gold limit 10"
   ]
  }
 ],
 "metadata": {
  "application/vnd.databricks.v1+notebook": {
   "computePreferences": null,
   "dashboards": [],
   "environmentMetadata": {
    "base_environment": "",
    "environment_version": "2"
   },
   "inputWidgetPreferences": null,
   "language": "python",
   "notebookMetadata": {
    "mostRecentlyExecutedCommandWithImplicitDF": {
     "commandId": 7849766776195760,
     "dataframes": [
      "_sqldf"
     ]
    },
    "pythonIndentUnit": 4
   },
   "notebookName": "gold_layer-checkpoint",
   "widgets": {}
  },
  "kernelspec": {
   "display_name": "Python 3 (ipykernel)",
   "language": "python",
   "name": "python3"
  },
  "language_info": {
   "name": "python"
  }
 },
 "nbformat": 4,
 "nbformat_minor": 0
}
